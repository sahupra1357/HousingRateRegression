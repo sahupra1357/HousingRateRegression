{
  "nbformat": 4,
  "nbformat_minor": 0,
  "metadata": {
    "colab": {
      "name": "HousingRateGraph.ipynb",
      "provenance": [],
      "authorship_tag": "ABX9TyO2F0hdzZ7/Stv+rZT+PcxQ",
      "include_colab_link": true
    },
    "kernelspec": {
      "name": "python3",
      "display_name": "Python 3"
    },
    "language_info": {
      "name": "python"
    }
  },
  "cells": [
    {
      "cell_type": "markdown",
      "metadata": {
        "id": "view-in-github",
        "colab_type": "text"
      },
      "source": [
        "<a href=\"https://colab.research.google.com/github/sahupra1357/HousingRateRegression/blob/main/HousingRateGraph.ipynb\" target=\"_parent\"><img src=\"https://colab.research.google.com/assets/colab-badge.svg\" alt=\"Open In Colab\"/></a>"
      ]
    },
    {
      "cell_type": "code",
      "metadata": {
        "id": "BHexQczJILch",
        "colab": {
          "base_uri": "https://localhost:8080/"
        },
        "outputId": "3f6a2571-9dec-4e8f-dd20-6f393a2a2fe9"
      },
      "source": [
        "!git clone https://github.com/emanhamed/Houses-dataset.git"
      ],
      "execution_count": null,
      "outputs": [
        {
          "output_type": "stream",
          "name": "stdout",
          "text": [
            "Cloning into 'Houses-dataset'...\n",
            "remote: Enumerating objects: 2166, done.\u001b[K\n",
            "remote: Counting objects: 100% (1/1), done.\u001b[K\n",
            "remote: Total 2166 (delta 0), reused 0 (delta 0), pack-reused 2165\u001b[K\n",
            "Receiving objects: 100% (2166/2166), 176.26 MiB | 10.91 MiB/s, done.\n",
            "Resolving deltas: 100% (20/20), done.\n"
          ]
        }
      ]
    },
    {
      "cell_type": "code",
      "metadata": {
        "colab": {
          "base_uri": "https://localhost:8080/"
        },
        "id": "eXF9_gvDbgRB",
        "outputId": "87a75573-c0b7-4dc5-db8c-d92950fd0dc7"
      },
      "source": [
        "!pip install requests"
      ],
      "execution_count": null,
      "outputs": [
        {
          "output_type": "stream",
          "name": "stdout",
          "text": [
            "Requirement already satisfied: requests in /usr/local/lib/python3.7/dist-packages (2.23.0)\n",
            "Requirement already satisfied: urllib3!=1.25.0,!=1.25.1,<1.26,>=1.21.1 in /usr/local/lib/python3.7/dist-packages (from requests) (1.24.3)\n",
            "Requirement already satisfied: idna<3,>=2.5 in /usr/local/lib/python3.7/dist-packages (from requests) (2.10)\n",
            "Requirement already satisfied: certifi>=2017.4.17 in /usr/local/lib/python3.7/dist-packages (from requests) (2021.5.30)\n",
            "Requirement already satisfied: chardet<4,>=3.0.2 in /usr/local/lib/python3.7/dist-packages (from requests) (3.0.4)\n"
          ]
        }
      ]
    },
    {
      "cell_type": "code",
      "metadata": {
        "id": "RW9gvjQCbusT"
      },
      "source": [
        "import requests\n",
        "# Save datagenerators as file to colab working directory\n",
        "# If you are using GitHub, make sure you get the \"Raw\" version of the code\n",
        "url = 'https://raw.githubusercontent.com/sahupra1357/HousingRateRegression/main/pyimagesearch/datasets.py'\n",
        "r = requests.get(url)\n",
        "\n",
        "# make sure your filename is the same as how you want to import \n",
        "with open('datasets.py', 'w') as f:\n",
        "    f.write(r.text)\n",
        "\n",
        "url = 'https://raw.githubusercontent.com/sahupra1357/HousingRateRegression/main/pyimagesearch/models.py'\n",
        "r = requests.get(url)\n",
        "\n",
        "# make sure your filename is the same as how you want to import \n",
        "with open('models.py', 'w') as f:\n",
        "    f.write(r.text)\n",
        "\n",
        "import datasets\n",
        "import models"
      ],
      "execution_count": null,
      "outputs": []
    },
    {
      "cell_type": "code",
      "metadata": {
        "id": "XagU_Po6buos"
      },
      "source": [
        "from tensorflow.keras.optimizers import Adam\n",
        "from sklearn.model_selection import train_test_split\n",
        "import numpy as np\n",
        "import argparse\n",
        "import locale\n",
        "import os"
      ],
      "execution_count": null,
      "outputs": []
    },
    {
      "cell_type": "code",
      "metadata": {
        "colab": {
          "base_uri": "https://localhost:8080/"
        },
        "id": "7apFNHQ_bujb",
        "outputId": "9c9e7ce1-2490-47e2-e79f-6767488daca9"
      },
      "source": [
        "# construct the path to the input .txt file that contains information\n",
        "# on each house in the dataset and then load the dataset\n",
        "print(\"[INFO] loading house attributes...\")\n",
        "inputPath = os.path.sep.join([\"Houses-dataset/Houses Dataset\", \"HousesInfo.txt\"])\n",
        "df = datasets.load_house_attributes(inputPath)"
      ],
      "execution_count": null,
      "outputs": [
        {
          "output_type": "stream",
          "name": "stdout",
          "text": [
            "[INFO] loading house attributes...\n"
          ]
        }
      ]
    },
    {
      "cell_type": "code",
      "metadata": {
        "id": "VD5kuc1Tt6ac",
        "colab": {
          "base_uri": "https://localhost:8080/"
        },
        "outputId": "0f7834a5-1efb-4ff6-cecd-5b040e20c9df"
      },
      "source": [
        "# construct a training and testing split with 75% of the data used\n",
        "# for training and the remaining 25% for evaluation\n",
        "print(\"[INFO] constructing training/testing split...\")\n",
        "(train, test) = train_test_split(df, test_size=0.25, random_state=42)"
      ],
      "execution_count": null,
      "outputs": [
        {
          "output_type": "stream",
          "name": "stdout",
          "text": [
            "[INFO] constructing training/testing split...\n"
          ]
        }
      ]
    },
    {
      "cell_type": "code",
      "metadata": {
        "id": "TwUAUhRrt6XE"
      },
      "source": [
        "# find the largest house price in the training set and use it to\n",
        "# scale our house prices to the range [0, 1] (this will lead to\n",
        "# better training and convergence)\n",
        "maxPrice = train[\"price\"].max()\n",
        "trainY = train[\"price\"] / maxPrice\n",
        "testY = test[\"price\"] / maxPrice"
      ],
      "execution_count": null,
      "outputs": []
    },
    {
      "cell_type": "code",
      "metadata": {
        "id": "bIO6GrlFt6Uk",
        "colab": {
          "base_uri": "https://localhost:8080/"
        },
        "outputId": "4cf5e814-a1ad-4048-9e1c-e31f7ac8400b"
      },
      "source": [
        "# process the house attributes data by performing min-max scaling\n",
        "# on continuous features, one-hot encoding on categorical features,\n",
        "# and then finally concatenating them together\n",
        "print(\"[INFO] processing data...\")\n",
        "(trainX, testX) = datasets.process_house_attributes(df, train, test)"
      ],
      "execution_count": null,
      "outputs": [
        {
          "output_type": "stream",
          "name": "stdout",
          "text": [
            "[INFO] processing data...\n"
          ]
        }
      ]
    },
    {
      "cell_type": "code",
      "metadata": {
        "id": "iI9v5TcQt6R0"
      },
      "source": [
        "# create our MLP and then compile the model using mean absolute\n",
        "# percentage error as our loss, implying that we seek to minimize\n",
        "# the absolute percentage difference between our price *predictions*\n",
        "# and the *actual prices*\n",
        "model = models.create_mlp(trainX.shape[1], regress=True)\n",
        "opt = Adam(learning_rate=1e-3, decay=1e-3 / 200)\n",
        "model.compile(loss=\"mean_absolute_percentage_error\", optimizer=opt)"
      ],
      "execution_count": null,
      "outputs": []
    },
    {
      "cell_type": "code",
      "metadata": {
        "id": "4d9yWkXnt6Oz",
        "colab": {
          "base_uri": "https://localhost:8080/"
        },
        "outputId": "4001870e-24a2-4f3b-fa54-0a11ab8c8173"
      },
      "source": [
        "# train the model\n",
        "print(\"[INFO] training model...\")\n",
        "regression_hist = model.fit(x=trainX, y=trainY, \n",
        "\tvalidation_data=(testX, testY),\n",
        "\tepochs=200, batch_size=8)"
      ],
      "execution_count": null,
      "outputs": [
        {
          "output_type": "stream",
          "name": "stdout",
          "text": [
            "[INFO] training model...\n",
            "Epoch 1/200\n",
            "34/34 [==============================] - 1s 5ms/step - loss: 88.0561 - val_loss: 62.7582\n",
            "Epoch 2/200\n",
            "34/34 [==============================] - 0s 2ms/step - loss: 58.6550 - val_loss: 49.1475\n",
            "Epoch 3/200\n",
            "34/34 [==============================] - 0s 2ms/step - loss: 50.8045 - val_loss: 42.8876\n",
            "Epoch 4/200\n",
            "34/34 [==============================] - 0s 2ms/step - loss: 45.3264 - val_loss: 40.1284\n",
            "Epoch 5/200\n",
            "34/34 [==============================] - 0s 1ms/step - loss: 43.8564 - val_loss: 37.5396\n",
            "Epoch 6/200\n",
            "34/34 [==============================] - 0s 2ms/step - loss: 42.0524 - val_loss: 36.5396\n",
            "Epoch 7/200\n",
            "34/34 [==============================] - 0s 2ms/step - loss: 39.5672 - val_loss: 36.6424\n",
            "Epoch 8/200\n",
            "34/34 [==============================] - 0s 1ms/step - loss: 40.4205 - val_loss: 32.9776\n",
            "Epoch 9/200\n",
            "34/34 [==============================] - 0s 2ms/step - loss: 38.1045 - val_loss: 32.0405\n",
            "Epoch 10/200\n",
            "34/34 [==============================] - 0s 2ms/step - loss: 37.1178 - val_loss: 32.0677\n",
            "Epoch 11/200\n",
            "34/34 [==============================] - 0s 2ms/step - loss: 36.5339 - val_loss: 31.5289\n",
            "Epoch 12/200\n",
            "34/34 [==============================] - 0s 2ms/step - loss: 39.1998 - val_loss: 35.5790\n",
            "Epoch 13/200\n",
            "34/34 [==============================] - 0s 1ms/step - loss: 35.0373 - val_loss: 30.3737\n",
            "Epoch 14/200\n",
            "34/34 [==============================] - 0s 2ms/step - loss: 35.8300 - val_loss: 30.3620\n",
            "Epoch 15/200\n",
            "34/34 [==============================] - 0s 2ms/step - loss: 35.5126 - val_loss: 30.3745\n",
            "Epoch 16/200\n",
            "34/34 [==============================] - 0s 2ms/step - loss: 36.0765 - val_loss: 31.2636\n",
            "Epoch 17/200\n",
            "34/34 [==============================] - 0s 2ms/step - loss: 34.5125 - val_loss: 29.7668\n",
            "Epoch 18/200\n",
            "34/34 [==============================] - 0s 2ms/step - loss: 34.2916 - val_loss: 29.8596\n",
            "Epoch 19/200\n",
            "34/34 [==============================] - 0s 1ms/step - loss: 34.9989 - val_loss: 28.9278\n",
            "Epoch 20/200\n",
            "34/34 [==============================] - 0s 2ms/step - loss: 36.4079 - val_loss: 28.9509\n",
            "Epoch 21/200\n",
            "34/34 [==============================] - 0s 1ms/step - loss: 34.6893 - val_loss: 28.5583\n",
            "Epoch 22/200\n",
            "34/34 [==============================] - 0s 1ms/step - loss: 35.1657 - val_loss: 28.5347\n",
            "Epoch 23/200\n",
            "34/34 [==============================] - 0s 1ms/step - loss: 33.2598 - val_loss: 29.2024\n",
            "Epoch 24/200\n",
            "34/34 [==============================] - 0s 1ms/step - loss: 32.3798 - val_loss: 31.2297\n",
            "Epoch 25/200\n",
            "34/34 [==============================] - 0s 2ms/step - loss: 34.1021 - val_loss: 27.7967\n",
            "Epoch 26/200\n",
            "34/34 [==============================] - 0s 2ms/step - loss: 32.7929 - val_loss: 27.5038\n",
            "Epoch 27/200\n",
            "34/34 [==============================] - 0s 1ms/step - loss: 33.0521 - val_loss: 29.5415\n",
            "Epoch 28/200\n",
            "34/34 [==============================] - 0s 2ms/step - loss: 31.8250 - val_loss: 27.4693\n",
            "Epoch 29/200\n",
            "34/34 [==============================] - 0s 1ms/step - loss: 31.4515 - val_loss: 27.5964\n",
            "Epoch 30/200\n",
            "34/34 [==============================] - 0s 2ms/step - loss: 31.4559 - val_loss: 27.4752\n",
            "Epoch 31/200\n",
            "34/34 [==============================] - 0s 1ms/step - loss: 31.6858 - val_loss: 27.3330\n",
            "Epoch 32/200\n",
            "34/34 [==============================] - 0s 2ms/step - loss: 32.2697 - val_loss: 26.4048\n",
            "Epoch 33/200\n",
            "34/34 [==============================] - 0s 2ms/step - loss: 32.9704 - val_loss: 28.3818\n",
            "Epoch 34/200\n",
            "34/34 [==============================] - 0s 2ms/step - loss: 31.3911 - val_loss: 27.7470\n",
            "Epoch 35/200\n",
            "34/34 [==============================] - 0s 1ms/step - loss: 30.5703 - val_loss: 26.2219\n",
            "Epoch 36/200\n",
            "34/34 [==============================] - 0s 2ms/step - loss: 30.7672 - val_loss: 25.6338\n",
            "Epoch 37/200\n",
            "34/34 [==============================] - 0s 2ms/step - loss: 30.6887 - val_loss: 26.3806\n",
            "Epoch 38/200\n",
            "34/34 [==============================] - 0s 2ms/step - loss: 31.1647 - val_loss: 26.3923\n",
            "Epoch 39/200\n",
            "34/34 [==============================] - 0s 1ms/step - loss: 30.2833 - val_loss: 26.4015\n",
            "Epoch 40/200\n",
            "34/34 [==============================] - 0s 1ms/step - loss: 30.8754 - val_loss: 26.6102\n",
            "Epoch 41/200\n",
            "34/34 [==============================] - 0s 2ms/step - loss: 29.6318 - val_loss: 25.8281\n",
            "Epoch 42/200\n",
            "34/34 [==============================] - 0s 2ms/step - loss: 29.8520 - val_loss: 25.4417\n",
            "Epoch 43/200\n",
            "34/34 [==============================] - 0s 2ms/step - loss: 29.7670 - val_loss: 25.7939\n",
            "Epoch 44/200\n",
            "34/34 [==============================] - 0s 2ms/step - loss: 29.1774 - val_loss: 24.9083\n",
            "Epoch 45/200\n",
            "34/34 [==============================] - 0s 1ms/step - loss: 29.0635 - val_loss: 25.4033\n",
            "Epoch 46/200\n",
            "34/34 [==============================] - 0s 1ms/step - loss: 29.2971 - val_loss: 24.6886\n",
            "Epoch 47/200\n",
            "34/34 [==============================] - 0s 2ms/step - loss: 30.7092 - val_loss: 25.6981\n",
            "Epoch 48/200\n",
            "34/34 [==============================] - 0s 1ms/step - loss: 28.6586 - val_loss: 25.6719\n",
            "Epoch 49/200\n",
            "34/34 [==============================] - 0s 2ms/step - loss: 29.4801 - val_loss: 24.2679\n",
            "Epoch 50/200\n",
            "34/34 [==============================] - 0s 2ms/step - loss: 28.7797 - val_loss: 24.6737\n",
            "Epoch 51/200\n",
            "34/34 [==============================] - 0s 2ms/step - loss: 28.8807 - val_loss: 24.9263\n",
            "Epoch 52/200\n",
            "34/34 [==============================] - 0s 2ms/step - loss: 28.5656 - val_loss: 23.5760\n",
            "Epoch 53/200\n",
            "34/34 [==============================] - 0s 2ms/step - loss: 29.8080 - val_loss: 25.2148\n",
            "Epoch 54/200\n",
            "34/34 [==============================] - 0s 2ms/step - loss: 27.9571 - val_loss: 22.9276\n",
            "Epoch 55/200\n",
            "34/34 [==============================] - 0s 2ms/step - loss: 27.1096 - val_loss: 23.0674\n",
            "Epoch 56/200\n",
            "34/34 [==============================] - 0s 2ms/step - loss: 27.6749 - val_loss: 26.0549\n",
            "Epoch 57/200\n",
            "34/34 [==============================] - 0s 2ms/step - loss: 27.7884 - val_loss: 23.2567\n",
            "Epoch 58/200\n",
            "34/34 [==============================] - 0s 1ms/step - loss: 27.7907 - val_loss: 22.5593\n",
            "Epoch 59/200\n",
            "34/34 [==============================] - 0s 2ms/step - loss: 27.0251 - val_loss: 21.8979\n",
            "Epoch 60/200\n",
            "34/34 [==============================] - 0s 1ms/step - loss: 26.3707 - val_loss: 22.8150\n",
            "Epoch 61/200\n",
            "34/34 [==============================] - 0s 2ms/step - loss: 26.5705 - val_loss: 23.3317\n",
            "Epoch 62/200\n",
            "34/34 [==============================] - 0s 3ms/step - loss: 26.2023 - val_loss: 23.7023\n",
            "Epoch 63/200\n",
            "34/34 [==============================] - 0s 3ms/step - loss: 25.7095 - val_loss: 23.0447\n",
            "Epoch 64/200\n",
            "34/34 [==============================] - 0s 3ms/step - loss: 25.9225 - val_loss: 21.6781\n",
            "Epoch 65/200\n",
            "34/34 [==============================] - 0s 3ms/step - loss: 26.5231 - val_loss: 22.6864\n",
            "Epoch 66/200\n",
            "34/34 [==============================] - 0s 1ms/step - loss: 26.0529 - val_loss: 22.4280\n",
            "Epoch 67/200\n",
            "34/34 [==============================] - 0s 2ms/step - loss: 25.3543 - val_loss: 23.5437\n",
            "Epoch 68/200\n",
            "34/34 [==============================] - 0s 1ms/step - loss: 24.8217 - val_loss: 21.7424\n",
            "Epoch 69/200\n",
            "34/34 [==============================] - 0s 1ms/step - loss: 25.3299 - val_loss: 23.4873\n",
            "Epoch 70/200\n",
            "34/34 [==============================] - 0s 2ms/step - loss: 25.0906 - val_loss: 22.4535\n",
            "Epoch 71/200\n",
            "34/34 [==============================] - 0s 1ms/step - loss: 24.5189 - val_loss: 21.8806\n",
            "Epoch 72/200\n",
            "34/34 [==============================] - 0s 2ms/step - loss: 25.4832 - val_loss: 21.0908\n",
            "Epoch 73/200\n",
            "34/34 [==============================] - 0s 2ms/step - loss: 24.3877 - val_loss: 20.7921\n",
            "Epoch 74/200\n",
            "34/34 [==============================] - 0s 1ms/step - loss: 23.7933 - val_loss: 21.3440\n",
            "Epoch 75/200\n",
            "34/34 [==============================] - 0s 1ms/step - loss: 23.4816 - val_loss: 20.3386\n",
            "Epoch 76/200\n",
            "34/34 [==============================] - 0s 1ms/step - loss: 22.7787 - val_loss: 20.2999\n",
            "Epoch 77/200\n",
            "34/34 [==============================] - 0s 2ms/step - loss: 23.3588 - val_loss: 21.4592\n",
            "Epoch 78/200\n",
            "34/34 [==============================] - 0s 1ms/step - loss: 24.2843 - val_loss: 20.6014\n",
            "Epoch 79/200\n",
            "34/34 [==============================] - 0s 2ms/step - loss: 22.0779 - val_loss: 22.6916\n",
            "Epoch 80/200\n",
            "34/34 [==============================] - 0s 2ms/step - loss: 23.5689 - val_loss: 20.8243\n",
            "Epoch 81/200\n",
            "34/34 [==============================] - 0s 2ms/step - loss: 23.7515 - val_loss: 24.0533\n",
            "Epoch 82/200\n",
            "34/34 [==============================] - 0s 2ms/step - loss: 23.3149 - val_loss: 22.1712\n",
            "Epoch 83/200\n",
            "34/34 [==============================] - 0s 1ms/step - loss: 22.2149 - val_loss: 20.9801\n",
            "Epoch 84/200\n",
            "34/34 [==============================] - 0s 2ms/step - loss: 21.5544 - val_loss: 20.4193\n",
            "Epoch 85/200\n",
            "34/34 [==============================] - 0s 2ms/step - loss: 21.9228 - val_loss: 20.6149\n",
            "Epoch 86/200\n",
            "34/34 [==============================] - 0s 1ms/step - loss: 21.9519 - val_loss: 20.5693\n",
            "Epoch 87/200\n",
            "34/34 [==============================] - 0s 1ms/step - loss: 21.9898 - val_loss: 20.7466\n",
            "Epoch 88/200\n",
            "34/34 [==============================] - 0s 1ms/step - loss: 22.9582 - val_loss: 21.5495\n",
            "Epoch 89/200\n",
            "34/34 [==============================] - 0s 1ms/step - loss: 22.2959 - val_loss: 23.7631\n",
            "Epoch 90/200\n",
            "34/34 [==============================] - 0s 2ms/step - loss: 21.7047 - val_loss: 20.3592\n",
            "Epoch 91/200\n",
            "34/34 [==============================] - 0s 2ms/step - loss: 21.6869 - val_loss: 21.3943\n",
            "Epoch 92/200\n",
            "34/34 [==============================] - 0s 2ms/step - loss: 22.3475 - val_loss: 23.7538\n",
            "Epoch 93/200\n",
            "34/34 [==============================] - 0s 1ms/step - loss: 21.4813 - val_loss: 21.1793\n",
            "Epoch 94/200\n",
            "34/34 [==============================] - 0s 2ms/step - loss: 21.4670 - val_loss: 22.7581\n",
            "Epoch 95/200\n",
            "34/34 [==============================] - 0s 1ms/step - loss: 21.5176 - val_loss: 21.3217\n",
            "Epoch 96/200\n",
            "34/34 [==============================] - 0s 2ms/step - loss: 21.5701 - val_loss: 21.2630\n",
            "Epoch 97/200\n",
            "34/34 [==============================] - 0s 2ms/step - loss: 21.0793 - val_loss: 21.9451\n",
            "Epoch 98/200\n",
            "34/34 [==============================] - 0s 1ms/step - loss: 20.5455 - val_loss: 22.0487\n",
            "Epoch 99/200\n",
            "34/34 [==============================] - 0s 2ms/step - loss: 20.8562 - val_loss: 21.0593\n",
            "Epoch 100/200\n",
            "34/34 [==============================] - 0s 2ms/step - loss: 20.7797 - val_loss: 21.5609\n",
            "Epoch 101/200\n",
            "34/34 [==============================] - 0s 2ms/step - loss: 20.5239 - val_loss: 20.7453\n",
            "Epoch 102/200\n",
            "34/34 [==============================] - 0s 1ms/step - loss: 21.0151 - val_loss: 20.8570\n",
            "Epoch 103/200\n",
            "34/34 [==============================] - 0s 1ms/step - loss: 22.0945 - val_loss: 22.0802\n",
            "Epoch 104/200\n",
            "34/34 [==============================] - 0s 1ms/step - loss: 21.2156 - val_loss: 23.9837\n",
            "Epoch 105/200\n",
            "34/34 [==============================] - 0s 2ms/step - loss: 21.8157 - val_loss: 21.3552\n",
            "Epoch 106/200\n",
            "34/34 [==============================] - 0s 2ms/step - loss: 20.7482 - val_loss: 21.3310\n",
            "Epoch 107/200\n",
            "34/34 [==============================] - 0s 2ms/step - loss: 20.2546 - val_loss: 20.9848\n",
            "Epoch 108/200\n",
            "34/34 [==============================] - 0s 1ms/step - loss: 21.3495 - val_loss: 22.5325\n",
            "Epoch 109/200\n",
            "34/34 [==============================] - 0s 2ms/step - loss: 20.8020 - val_loss: 20.8347\n",
            "Epoch 110/200\n",
            "34/34 [==============================] - 0s 2ms/step - loss: 21.1364 - val_loss: 21.5795\n",
            "Epoch 111/200\n",
            "34/34 [==============================] - 0s 1ms/step - loss: 20.7212 - val_loss: 21.4735\n",
            "Epoch 112/200\n",
            "34/34 [==============================] - 0s 1ms/step - loss: 20.4569 - val_loss: 21.1741\n",
            "Epoch 113/200\n",
            "34/34 [==============================] - 0s 1ms/step - loss: 20.3604 - val_loss: 21.3490\n",
            "Epoch 114/200\n",
            "34/34 [==============================] - 0s 2ms/step - loss: 20.9746 - val_loss: 21.3771\n",
            "Epoch 115/200\n",
            "34/34 [==============================] - 0s 2ms/step - loss: 21.0525 - val_loss: 21.9576\n",
            "Epoch 116/200\n",
            "34/34 [==============================] - 0s 1ms/step - loss: 20.3140 - val_loss: 22.6253\n",
            "Epoch 117/200\n",
            "34/34 [==============================] - 0s 2ms/step - loss: 20.5799 - val_loss: 21.8603\n",
            "Epoch 118/200\n",
            "34/34 [==============================] - 0s 2ms/step - loss: 21.5513 - val_loss: 21.4936\n",
            "Epoch 119/200\n",
            "34/34 [==============================] - 0s 1ms/step - loss: 20.6718 - val_loss: 21.5976\n",
            "Epoch 120/200\n",
            "34/34 [==============================] - 0s 2ms/step - loss: 20.0363 - val_loss: 21.7684\n",
            "Epoch 121/200\n",
            "34/34 [==============================] - 0s 1ms/step - loss: 19.9495 - val_loss: 21.8567\n",
            "Epoch 122/200\n",
            "34/34 [==============================] - 0s 2ms/step - loss: 20.5872 - val_loss: 21.7428\n",
            "Epoch 123/200\n",
            "34/34 [==============================] - 0s 2ms/step - loss: 20.1386 - val_loss: 20.9728\n",
            "Epoch 124/200\n",
            "34/34 [==============================] - 0s 1ms/step - loss: 20.0279 - val_loss: 20.9827\n",
            "Epoch 125/200\n",
            "34/34 [==============================] - 0s 1ms/step - loss: 20.2477 - val_loss: 21.1905\n",
            "Epoch 126/200\n",
            "34/34 [==============================] - 0s 2ms/step - loss: 20.5053 - val_loss: 22.9913\n",
            "Epoch 127/200\n",
            "34/34 [==============================] - 0s 1ms/step - loss: 20.4529 - val_loss: 22.1353\n",
            "Epoch 128/200\n",
            "34/34 [==============================] - 0s 1ms/step - loss: 20.6924 - val_loss: 21.8915\n",
            "Epoch 129/200\n",
            "34/34 [==============================] - 0s 2ms/step - loss: 20.9640 - val_loss: 22.1038\n",
            "Epoch 130/200\n",
            "34/34 [==============================] - 0s 1ms/step - loss: 20.6790 - val_loss: 22.1694\n",
            "Epoch 131/200\n",
            "34/34 [==============================] - 0s 2ms/step - loss: 20.5601 - val_loss: 21.9856\n",
            "Epoch 132/200\n",
            "34/34 [==============================] - 0s 2ms/step - loss: 20.0725 - val_loss: 23.1242\n",
            "Epoch 133/200\n",
            "34/34 [==============================] - 0s 1ms/step - loss: 19.8651 - val_loss: 21.9324\n",
            "Epoch 134/200\n",
            "34/34 [==============================] - 0s 1ms/step - loss: 20.4064 - val_loss: 23.0591\n",
            "Epoch 135/200\n",
            "34/34 [==============================] - 0s 1ms/step - loss: 20.8591 - val_loss: 21.5523\n",
            "Epoch 136/200\n",
            "34/34 [==============================] - 0s 2ms/step - loss: 20.3330 - val_loss: 21.4664\n",
            "Epoch 137/200\n",
            "34/34 [==============================] - 0s 2ms/step - loss: 21.3788 - val_loss: 23.4362\n",
            "Epoch 138/200\n",
            "34/34 [==============================] - 0s 1ms/step - loss: 20.5400 - val_loss: 22.3438\n",
            "Epoch 139/200\n",
            "34/34 [==============================] - 0s 2ms/step - loss: 20.4358 - val_loss: 22.3807\n",
            "Epoch 140/200\n",
            "34/34 [==============================] - 0s 1ms/step - loss: 20.2521 - val_loss: 21.6903\n",
            "Epoch 141/200\n",
            "34/34 [==============================] - 0s 1ms/step - loss: 19.5644 - val_loss: 24.1842\n",
            "Epoch 142/200\n",
            "34/34 [==============================] - 0s 2ms/step - loss: 20.3369 - val_loss: 22.3878\n",
            "Epoch 143/200\n",
            "34/34 [==============================] - 0s 1ms/step - loss: 20.1730 - val_loss: 24.0147\n",
            "Epoch 144/200\n",
            "34/34 [==============================] - 0s 2ms/step - loss: 20.3232 - val_loss: 23.4011\n",
            "Epoch 145/200\n",
            "34/34 [==============================] - 0s 1ms/step - loss: 21.2913 - val_loss: 22.3709\n",
            "Epoch 146/200\n",
            "34/34 [==============================] - 0s 1ms/step - loss: 20.3057 - val_loss: 23.3826\n",
            "Epoch 147/200\n",
            "34/34 [==============================] - 0s 1ms/step - loss: 20.3560 - val_loss: 21.5585\n",
            "Epoch 148/200\n",
            "34/34 [==============================] - 0s 1ms/step - loss: 20.0904 - val_loss: 24.2067\n",
            "Epoch 149/200\n",
            "34/34 [==============================] - 0s 2ms/step - loss: 20.2909 - val_loss: 23.9091\n",
            "Epoch 150/200\n",
            "34/34 [==============================] - 0s 2ms/step - loss: 20.6337 - val_loss: 21.7340\n",
            "Epoch 151/200\n",
            "34/34 [==============================] - 0s 2ms/step - loss: 20.4195 - val_loss: 22.3914\n",
            "Epoch 152/200\n",
            "34/34 [==============================] - 0s 2ms/step - loss: 20.0780 - val_loss: 22.2141\n",
            "Epoch 153/200\n",
            "34/34 [==============================] - 0s 2ms/step - loss: 19.4282 - val_loss: 23.1057\n",
            "Epoch 154/200\n",
            "34/34 [==============================] - 0s 2ms/step - loss: 20.0055 - val_loss: 23.1196\n",
            "Epoch 155/200\n",
            "34/34 [==============================] - 0s 1ms/step - loss: 20.0103 - val_loss: 21.8798\n",
            "Epoch 156/200\n",
            "34/34 [==============================] - 0s 2ms/step - loss: 19.9867 - val_loss: 23.4270\n",
            "Epoch 157/200\n",
            "34/34 [==============================] - 0s 1ms/step - loss: 20.0989 - val_loss: 22.4905\n",
            "Epoch 158/200\n",
            "34/34 [==============================] - 0s 2ms/step - loss: 20.1454 - val_loss: 22.9457\n",
            "Epoch 159/200\n",
            "34/34 [==============================] - 0s 2ms/step - loss: 19.7951 - val_loss: 22.6078\n",
            "Epoch 160/200\n",
            "34/34 [==============================] - 0s 2ms/step - loss: 19.8061 - val_loss: 24.0495\n",
            "Epoch 161/200\n",
            "34/34 [==============================] - 0s 2ms/step - loss: 19.9971 - val_loss: 23.9134\n",
            "Epoch 162/200\n",
            "34/34 [==============================] - 0s 2ms/step - loss: 19.6783 - val_loss: 22.6098\n",
            "Epoch 163/200\n",
            "34/34 [==============================] - 0s 2ms/step - loss: 20.0836 - val_loss: 22.1094\n",
            "Epoch 164/200\n",
            "34/34 [==============================] - 0s 2ms/step - loss: 20.0190 - val_loss: 21.8094\n",
            "Epoch 165/200\n",
            "34/34 [==============================] - 0s 2ms/step - loss: 20.1355 - val_loss: 22.4760\n",
            "Epoch 166/200\n",
            "34/34 [==============================] - 0s 1ms/step - loss: 20.2786 - val_loss: 22.0538\n",
            "Epoch 167/200\n",
            "34/34 [==============================] - 0s 2ms/step - loss: 20.0356 - val_loss: 23.6320\n",
            "Epoch 168/200\n",
            "34/34 [==============================] - 0s 2ms/step - loss: 19.9339 - val_loss: 23.8628\n",
            "Epoch 169/200\n",
            "34/34 [==============================] - 0s 1ms/step - loss: 20.8134 - val_loss: 23.2651\n",
            "Epoch 170/200\n",
            "34/34 [==============================] - 0s 2ms/step - loss: 21.6217 - val_loss: 21.9953\n",
            "Epoch 171/200\n",
            "34/34 [==============================] - 0s 1ms/step - loss: 19.9477 - val_loss: 21.3528\n",
            "Epoch 172/200\n",
            "34/34 [==============================] - 0s 1ms/step - loss: 20.3114 - val_loss: 21.8587\n",
            "Epoch 173/200\n",
            "34/34 [==============================] - 0s 2ms/step - loss: 19.7075 - val_loss: 20.9328\n",
            "Epoch 174/200\n",
            "34/34 [==============================] - 0s 1ms/step - loss: 20.1670 - val_loss: 23.6810\n",
            "Epoch 175/200\n",
            "34/34 [==============================] - 0s 1ms/step - loss: 22.4535 - val_loss: 22.9547\n",
            "Epoch 176/200\n",
            "34/34 [==============================] - 0s 2ms/step - loss: 19.4974 - val_loss: 21.9978\n",
            "Epoch 177/200\n",
            "34/34 [==============================] - 0s 2ms/step - loss: 20.2327 - val_loss: 23.3501\n",
            "Epoch 178/200\n",
            "34/34 [==============================] - 0s 1ms/step - loss: 19.5336 - val_loss: 21.4195\n",
            "Epoch 179/200\n",
            "34/34 [==============================] - 0s 1ms/step - loss: 19.5406 - val_loss: 22.2266\n",
            "Epoch 180/200\n",
            "34/34 [==============================] - 0s 2ms/step - loss: 19.8632 - val_loss: 22.2603\n",
            "Epoch 181/200\n",
            "34/34 [==============================] - 0s 1ms/step - loss: 20.2543 - val_loss: 22.4703\n",
            "Epoch 182/200\n",
            "34/34 [==============================] - 0s 2ms/step - loss: 19.5170 - val_loss: 22.6730\n",
            "Epoch 183/200\n",
            "34/34 [==============================] - 0s 1ms/step - loss: 21.0907 - val_loss: 21.4360\n",
            "Epoch 184/200\n",
            "34/34 [==============================] - 0s 1ms/step - loss: 20.6994 - val_loss: 22.5989\n",
            "Epoch 185/200\n",
            "34/34 [==============================] - 0s 2ms/step - loss: 19.9653 - val_loss: 21.8160\n",
            "Epoch 186/200\n",
            "34/34 [==============================] - 0s 1ms/step - loss: 19.2276 - val_loss: 22.4987\n",
            "Epoch 187/200\n",
            "34/34 [==============================] - 0s 2ms/step - loss: 20.5404 - val_loss: 23.5193\n",
            "Epoch 188/200\n",
            "34/34 [==============================] - 0s 2ms/step - loss: 19.7582 - val_loss: 21.9820\n",
            "Epoch 189/200\n",
            "34/34 [==============================] - 0s 1ms/step - loss: 20.0400 - val_loss: 22.7953\n",
            "Epoch 190/200\n",
            "34/34 [==============================] - 0s 1ms/step - loss: 19.6710 - val_loss: 21.7607\n",
            "Epoch 191/200\n",
            "34/34 [==============================] - 0s 1ms/step - loss: 20.2171 - val_loss: 21.9008\n",
            "Epoch 192/200\n",
            "34/34 [==============================] - 0s 2ms/step - loss: 19.8556 - val_loss: 21.5629\n",
            "Epoch 193/200\n",
            "34/34 [==============================] - 0s 2ms/step - loss: 19.3258 - val_loss: 22.0252\n",
            "Epoch 194/200\n",
            "34/34 [==============================] - 0s 2ms/step - loss: 20.7312 - val_loss: 23.4184\n",
            "Epoch 195/200\n",
            "34/34 [==============================] - 0s 2ms/step - loss: 19.8094 - val_loss: 22.2861\n",
            "Epoch 196/200\n",
            "34/34 [==============================] - 0s 2ms/step - loss: 21.8106 - val_loss: 21.8484\n",
            "Epoch 197/200\n",
            "34/34 [==============================] - 0s 2ms/step - loss: 22.0301 - val_loss: 22.5511\n",
            "Epoch 198/200\n",
            "34/34 [==============================] - 0s 2ms/step - loss: 20.4723 - val_loss: 21.5986\n",
            "Epoch 199/200\n",
            "34/34 [==============================] - 0s 2ms/step - loss: 19.7922 - val_loss: 22.5176\n",
            "Epoch 200/200\n",
            "34/34 [==============================] - 0s 2ms/step - loss: 20.7639 - val_loss: 22.1535\n"
          ]
        },
        {
          "output_type": "execute_result",
          "data": {
            "text/plain": [
              "<keras.callbacks.History at 0x7f261df4c390>"
            ]
          },
          "metadata": {},
          "execution_count": 31
        }
      ]
    },
    {
      "cell_type": "code",
      "metadata": {
        "id": "r4rINZTp8tko"
      },
      "source": [
        "import matplotlib.pyplot as plt\n",
        "plt.figure(figsize=(16,10)) \n",
        "epochs = range(1, len(regression_hist.history['accuracy']) + 1)\n",
        "plt.plot(epochs, regression_hist.history['loss'], label='Training Loss') \n",
        "plt.plot(epochs, regression_hist.history['val_loss'], label='Validation Loss') \n",
        "\n",
        "plt.title('Loss of Regression model')\n",
        "plt.xlabel('Epochs')\n",
        "plt.ylabel('Loss')\n",
        "plt.legend()\n",
        "plt.show()"
      ],
      "execution_count": null,
      "outputs": []
    },
    {
      "cell_type": "code",
      "metadata": {
        "id": "f7XdGitst6L8",
        "colab": {
          "base_uri": "https://localhost:8080/"
        },
        "outputId": "fe779859-561b-4399-ebcc-ebf1ce4066e6"
      },
      "source": [
        "# make predictions on the testing data\n",
        "print(\"[INFO] predicting house prices...\")\n",
        "preds = model.predict(testX)"
      ],
      "execution_count": null,
      "outputs": [
        {
          "output_type": "stream",
          "name": "stdout",
          "text": [
            "[INFO] predicting house prices...\n"
          ]
        }
      ]
    },
    {
      "cell_type": "code",
      "metadata": {
        "id": "dj_GyDrMt6JF"
      },
      "source": [
        "# compute the difference between the *predicted* house prices and the\n",
        "# *actual* house prices, then compute the percentage difference and\n",
        "# the absolute percentage difference\n",
        "diff = preds.flatten() - testY\n",
        "percentDiff = (diff / testY) * 100\n",
        "absPercentDiff = np.abs(percentDiff)"
      ],
      "execution_count": null,
      "outputs": []
    },
    {
      "cell_type": "code",
      "metadata": {
        "id": "x2UHYlnrbugz"
      },
      "source": [
        "# compute the mean and standard deviation of the absolute percentage\n",
        "# difference\n",
        "mean = np.mean(absPercentDiff)\n",
        "std = np.std(absPercentDiff)"
      ],
      "execution_count": null,
      "outputs": []
    },
    {
      "cell_type": "code",
      "metadata": {
        "id": "B3JGK60OvSXM",
        "colab": {
          "base_uri": "https://localhost:8080/"
        },
        "outputId": "a9215085-ae54-4509-a743-9a8278c5afa9"
      },
      "source": [
        "# finally, show some statistics on our model\n",
        "locale.setlocale(locale.LC_ALL, \"en_US.UTF-8\")\n",
        "print(\"[INFO] avg. house price: {}, std house price: {}\".format(\n",
        "\tlocale.currency(df[\"price\"].mean(), grouping=True),\n",
        "\tlocale.currency(df[\"price\"].std(), grouping=True)))\n",
        "print(\"[INFO] mean: {:.2f}%, std: {:.2f}%\".format(mean, std))"
      ],
      "execution_count": null,
      "outputs": [
        {
          "output_type": "stream",
          "name": "stdout",
          "text": [
            "[INFO] avg. house price: $533,388.27, std house price: $493,403.08\n",
            "[INFO] mean: 22.15%, std: 20.76%\n"
          ]
        }
      ]
    }
  ]
}
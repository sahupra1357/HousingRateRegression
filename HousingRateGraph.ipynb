{
  "nbformat": 4,
  "nbformat_minor": 0,
  "metadata": {
    "colab": {
      "name": "HousingRateGraph.ipynb",
      "provenance": [],
      "authorship_tag": "ABX9TyNzEKspqlGXr9RG6HbwWMAj",
      "include_colab_link": true
    },
    "kernelspec": {
      "name": "python3",
      "display_name": "Python 3"
    },
    "language_info": {
      "name": "python"
    }
  },
  "cells": [
    {
      "cell_type": "markdown",
      "metadata": {
        "id": "view-in-github",
        "colab_type": "text"
      },
      "source": [
        "<a href=\"https://colab.research.google.com/github/sahupra1357/HousingRateRegression/blob/main/HousingRateGraph.ipynb\" target=\"_parent\"><img src=\"https://colab.research.google.com/assets/colab-badge.svg\" alt=\"Open In Colab\"/></a>"
      ]
    },
    {
      "cell_type": "code",
      "metadata": {
        "id": "BHexQczJILch",
        "colab": {
          "base_uri": "https://localhost:8080/"
        },
        "outputId": "ec4425b9-06a1-4e23-c0ac-38e436e80449"
      },
      "source": [
        "!git clone https://github.com/emanhamed/Houses-dataset.git"
      ],
      "execution_count": 1,
      "outputs": [
        {
          "output_type": "stream",
          "name": "stdout",
          "text": [
            "Cloning into 'Houses-dataset'...\n",
            "remote: Enumerating objects: 2166, done.\u001b[K\n",
            "remote: Counting objects: 100% (1/1), done.\u001b[K\n",
            "remote: Total 2166 (delta 0), reused 0 (delta 0), pack-reused 2165\u001b[K\n",
            "Receiving objects: 100% (2166/2166), 176.26 MiB | 33.72 MiB/s, done.\n",
            "Resolving deltas: 100% (20/20), done.\n"
          ]
        }
      ]
    },
    {
      "cell_type": "code",
      "metadata": {
        "colab": {
          "base_uri": "https://localhost:8080/"
        },
        "id": "eXF9_gvDbgRB",
        "outputId": "4a35b902-ac28-4363-906d-4893a0139268"
      },
      "source": [
        "!pip install requests"
      ],
      "execution_count": 2,
      "outputs": [
        {
          "output_type": "stream",
          "name": "stdout",
          "text": [
            "Requirement already satisfied: requests in /usr/local/lib/python3.7/dist-packages (2.23.0)\n",
            "Requirement already satisfied: certifi>=2017.4.17 in /usr/local/lib/python3.7/dist-packages (from requests) (2021.5.30)\n",
            "Requirement already satisfied: idna<3,>=2.5 in /usr/local/lib/python3.7/dist-packages (from requests) (2.10)\n",
            "Requirement already satisfied: chardet<4,>=3.0.2 in /usr/local/lib/python3.7/dist-packages (from requests) (3.0.4)\n",
            "Requirement already satisfied: urllib3!=1.25.0,!=1.25.1,<1.26,>=1.21.1 in /usr/local/lib/python3.7/dist-packages (from requests) (1.24.3)\n"
          ]
        }
      ]
    },
    {
      "cell_type": "code",
      "metadata": {
        "id": "RW9gvjQCbusT"
      },
      "source": [
        "import requests\n",
        "# Save datagenerators as file to colab working directory\n",
        "# If you are using GitHub, make sure you get the \"Raw\" version of the code\n",
        "url = 'https://raw.githubusercontent.com/sahupra1357/HousingRateRegression/main/pyimagesearch/datasets.py'\n",
        "r = requests.get(url)\n",
        "\n",
        "# make sure your filename is the same as how you want to import \n",
        "with open('datasets.py', 'w') as f:\n",
        "    f.write(r.text)\n",
        "\n",
        "url = 'https://raw.githubusercontent.com/sahupra1357/HousingRateRegression/main/pyimagesearch/models.py'\n",
        "r = requests.get(url)\n",
        "\n",
        "# make sure your filename is the same as how you want to import \n",
        "with open('models.py', 'w') as f:\n",
        "    f.write(r.text)\n",
        "\n",
        "import datasets\n",
        "import models"
      ],
      "execution_count": 3,
      "outputs": []
    },
    {
      "cell_type": "code",
      "metadata": {
        "id": "XagU_Po6buos"
      },
      "source": [
        "from tensorflow.keras.optimizers import Adam\n",
        "from sklearn.model_selection import train_test_split\n",
        "import numpy as np\n",
        "import argparse\n",
        "import locale\n",
        "import os"
      ],
      "execution_count": 4,
      "outputs": []
    },
    {
      "cell_type": "code",
      "metadata": {
        "colab": {
          "base_uri": "https://localhost:8080/"
        },
        "id": "7apFNHQ_bujb",
        "outputId": "91bae44c-27c9-477e-fbec-fe28d9a2eae4"
      },
      "source": [
        "# construct the path to the input .txt file that contains information\n",
        "# on each house in the dataset and then load the dataset\n",
        "print(\"[INFO] loading house attributes...\")\n",
        "inputPath = os.path.sep.join([\"Houses-dataset/Houses Dataset\", \"HousesInfo.txt\"])\n",
        "df = datasets.load_house_attributes(inputPath)"
      ],
      "execution_count": 5,
      "outputs": [
        {
          "output_type": "stream",
          "name": "stdout",
          "text": [
            "[INFO] loading house attributes...\n"
          ]
        }
      ]
    },
    {
      "cell_type": "code",
      "metadata": {
        "id": "VD5kuc1Tt6ac",
        "colab": {
          "base_uri": "https://localhost:8080/"
        },
        "outputId": "32ba1f05-f012-4875-e690-2a17bea869ff"
      },
      "source": [
        "# construct a training and testing split with 75% of the data used\n",
        "# for training and the remaining 25% for evaluation\n",
        "print(\"[INFO] constructing training/testing split...\")\n",
        "(train, test) = train_test_split(df, test_size=0.25, random_state=42)"
      ],
      "execution_count": 6,
      "outputs": [
        {
          "output_type": "stream",
          "name": "stdout",
          "text": [
            "[INFO] constructing training/testing split...\n"
          ]
        }
      ]
    },
    {
      "cell_type": "code",
      "metadata": {
        "id": "TwUAUhRrt6XE"
      },
      "source": [
        "# find the largest house price in the training set and use it to\n",
        "# scale our house prices to the range [0, 1] (this will lead to\n",
        "# better training and convergence)\n",
        "maxPrice = train[\"price\"].max()\n",
        "trainY = train[\"price\"] / maxPrice\n",
        "testY = test[\"price\"] / maxPrice"
      ],
      "execution_count": 7,
      "outputs": []
    },
    {
      "cell_type": "code",
      "metadata": {
        "id": "bIO6GrlFt6Uk",
        "colab": {
          "base_uri": "https://localhost:8080/"
        },
        "outputId": "48e09dfb-1e5c-4fb4-9f99-76ebb331e770"
      },
      "source": [
        "# process the house attributes data by performing min-max scaling\n",
        "# on continuous features, one-hot encoding on categorical features,\n",
        "# and then finally concatenating them together\n",
        "print(\"[INFO] processing data...\")\n",
        "(trainX, testX) = datasets.process_house_attributes(df, train, test)"
      ],
      "execution_count": 8,
      "outputs": [
        {
          "output_type": "stream",
          "name": "stdout",
          "text": [
            "[INFO] processing data...\n"
          ]
        }
      ]
    },
    {
      "cell_type": "code",
      "metadata": {
        "id": "iI9v5TcQt6R0"
      },
      "source": [
        "# create our MLP and then compile the model using mean absolute\n",
        "# percentage error as our loss, implying that we seek to minimize\n",
        "# the absolute percentage difference between our price *predictions*\n",
        "# and the *actual prices*\n",
        "model = models.create_mlp(trainX.shape[1], regress=True)\n",
        "opt = Adam(learning_rate=1e-3, decay=1e-3 / 200)\n",
        "model.compile(loss=\"mean_absolute_percentage_error\", optimizer=opt)"
      ],
      "execution_count": 9,
      "outputs": []
    },
    {
      "cell_type": "code",
      "metadata": {
        "id": "4d9yWkXnt6Oz",
        "colab": {
          "base_uri": "https://localhost:8080/"
        },
        "outputId": "df9ef48e-bc01-4245-cab0-99876c4a36ed"
      },
      "source": [
        "# train the model\n",
        "print(\"[INFO] training model...\")\n",
        "regression_hist = model.fit(x=trainX, y=trainY, \n",
        "\tvalidation_data=(testX, testY),\n",
        "\tepochs=200, batch_size=8)"
      ],
      "execution_count": 10,
      "outputs": [
        {
          "output_type": "stream",
          "name": "stdout",
          "text": [
            "[INFO] training model...\n",
            "Epoch 1/200\n",
            "34/34 [==============================] - 1s 6ms/step - loss: 145.4540 - val_loss: 105.7449\n",
            "Epoch 2/200\n",
            "34/34 [==============================] - 0s 2ms/step - loss: 80.5484 - val_loss: 73.4349\n",
            "Epoch 3/200\n",
            "34/34 [==============================] - 0s 2ms/step - loss: 57.6163 - val_loss: 58.4985\n",
            "Epoch 4/200\n",
            "34/34 [==============================] - 0s 2ms/step - loss: 48.3645 - val_loss: 50.8315\n",
            "Epoch 5/200\n",
            "34/34 [==============================] - 0s 2ms/step - loss: 43.7692 - val_loss: 45.9887\n",
            "Epoch 6/200\n",
            "34/34 [==============================] - 0s 2ms/step - loss: 40.9367 - val_loss: 42.1682\n",
            "Epoch 7/200\n",
            "34/34 [==============================] - 0s 2ms/step - loss: 38.1758 - val_loss: 37.2895\n",
            "Epoch 8/200\n",
            "34/34 [==============================] - 0s 2ms/step - loss: 36.0103 - val_loss: 35.5560\n",
            "Epoch 9/200\n",
            "34/34 [==============================] - 0s 2ms/step - loss: 34.8150 - val_loss: 32.9629\n",
            "Epoch 10/200\n",
            "34/34 [==============================] - 0s 2ms/step - loss: 34.1330 - val_loss: 32.0099\n",
            "Epoch 11/200\n",
            "34/34 [==============================] - 0s 2ms/step - loss: 32.9008 - val_loss: 30.9383\n",
            "Epoch 12/200\n",
            "34/34 [==============================] - 0s 2ms/step - loss: 31.7738 - val_loss: 30.8205\n",
            "Epoch 13/200\n",
            "34/34 [==============================] - 0s 2ms/step - loss: 31.5904 - val_loss: 28.4139\n",
            "Epoch 14/200\n",
            "34/34 [==============================] - 0s 2ms/step - loss: 29.9943 - val_loss: 27.1943\n",
            "Epoch 15/200\n",
            "34/34 [==============================] - 0s 2ms/step - loss: 29.4544 - val_loss: 25.8271\n",
            "Epoch 16/200\n",
            "34/34 [==============================] - 0s 2ms/step - loss: 28.2835 - val_loss: 26.0653\n",
            "Epoch 17/200\n",
            "34/34 [==============================] - 0s 2ms/step - loss: 28.8828 - val_loss: 23.9814\n",
            "Epoch 18/200\n",
            "34/34 [==============================] - 0s 2ms/step - loss: 26.6956 - val_loss: 24.8429\n",
            "Epoch 19/200\n",
            "34/34 [==============================] - 0s 2ms/step - loss: 26.2363 - val_loss: 22.4870\n",
            "Epoch 20/200\n",
            "34/34 [==============================] - 0s 2ms/step - loss: 25.5725 - val_loss: 22.8645\n",
            "Epoch 21/200\n",
            "34/34 [==============================] - 0s 2ms/step - loss: 25.4251 - val_loss: 22.7617\n",
            "Epoch 22/200\n",
            "34/34 [==============================] - 0s 2ms/step - loss: 24.7095 - val_loss: 22.2996\n",
            "Epoch 23/200\n",
            "34/34 [==============================] - 0s 2ms/step - loss: 24.2676 - val_loss: 22.2019\n",
            "Epoch 24/200\n",
            "34/34 [==============================] - 0s 2ms/step - loss: 24.1712 - val_loss: 21.4765\n",
            "Epoch 25/200\n",
            "34/34 [==============================] - 0s 2ms/step - loss: 24.3732 - val_loss: 21.8826\n",
            "Epoch 26/200\n",
            "34/34 [==============================] - 0s 2ms/step - loss: 23.9130 - val_loss: 21.1487\n",
            "Epoch 27/200\n",
            "34/34 [==============================] - 0s 2ms/step - loss: 23.9489 - val_loss: 22.1526\n",
            "Epoch 28/200\n",
            "34/34 [==============================] - 0s 2ms/step - loss: 23.6550 - val_loss: 21.1611\n",
            "Epoch 29/200\n",
            "34/34 [==============================] - 0s 2ms/step - loss: 24.1971 - val_loss: 22.2675\n",
            "Epoch 30/200\n",
            "34/34 [==============================] - 0s 2ms/step - loss: 23.0240 - val_loss: 20.7520\n",
            "Epoch 31/200\n",
            "34/34 [==============================] - 0s 2ms/step - loss: 23.1966 - val_loss: 22.6069\n",
            "Epoch 32/200\n",
            "34/34 [==============================] - 0s 2ms/step - loss: 22.9185 - val_loss: 21.4444\n",
            "Epoch 33/200\n",
            "34/34 [==============================] - 0s 2ms/step - loss: 23.1856 - val_loss: 21.4526\n",
            "Epoch 34/200\n",
            "34/34 [==============================] - 0s 2ms/step - loss: 23.1091 - val_loss: 23.9340\n",
            "Epoch 35/200\n",
            "34/34 [==============================] - 0s 2ms/step - loss: 23.2473 - val_loss: 22.2155\n",
            "Epoch 36/200\n",
            "34/34 [==============================] - 0s 2ms/step - loss: 22.7994 - val_loss: 21.4158\n",
            "Epoch 37/200\n",
            "34/34 [==============================] - 0s 2ms/step - loss: 22.9661 - val_loss: 22.5310\n",
            "Epoch 38/200\n",
            "34/34 [==============================] - 0s 2ms/step - loss: 23.4978 - val_loss: 21.6993\n",
            "Epoch 39/200\n",
            "34/34 [==============================] - 0s 2ms/step - loss: 22.2964 - val_loss: 22.9441\n",
            "Epoch 40/200\n",
            "34/34 [==============================] - 0s 2ms/step - loss: 22.6032 - val_loss: 21.2209\n",
            "Epoch 41/200\n",
            "34/34 [==============================] - 0s 2ms/step - loss: 21.8926 - val_loss: 21.7089\n",
            "Epoch 42/200\n",
            "34/34 [==============================] - 0s 2ms/step - loss: 21.6458 - val_loss: 22.1471\n",
            "Epoch 43/200\n",
            "34/34 [==============================] - 0s 2ms/step - loss: 21.5583 - val_loss: 23.1064\n",
            "Epoch 44/200\n",
            "34/34 [==============================] - 0s 2ms/step - loss: 22.9482 - val_loss: 22.5469\n",
            "Epoch 45/200\n",
            "34/34 [==============================] - 0s 2ms/step - loss: 22.4344 - val_loss: 21.8505\n",
            "Epoch 46/200\n",
            "34/34 [==============================] - 0s 2ms/step - loss: 22.6870 - val_loss: 21.8816\n",
            "Epoch 47/200\n",
            "34/34 [==============================] - 0s 2ms/step - loss: 21.6113 - val_loss: 21.9936\n",
            "Epoch 48/200\n",
            "34/34 [==============================] - 0s 2ms/step - loss: 21.7642 - val_loss: 22.5864\n",
            "Epoch 49/200\n",
            "34/34 [==============================] - 0s 2ms/step - loss: 21.7604 - val_loss: 23.9475\n",
            "Epoch 50/200\n",
            "34/34 [==============================] - 0s 2ms/step - loss: 22.3216 - val_loss: 23.5009\n",
            "Epoch 51/200\n",
            "34/34 [==============================] - 0s 2ms/step - loss: 21.3724 - val_loss: 22.9434\n",
            "Epoch 52/200\n",
            "34/34 [==============================] - 0s 2ms/step - loss: 21.6123 - val_loss: 22.4944\n",
            "Epoch 53/200\n",
            "34/34 [==============================] - 0s 2ms/step - loss: 20.9381 - val_loss: 22.7155\n",
            "Epoch 54/200\n",
            "34/34 [==============================] - 0s 2ms/step - loss: 21.4885 - val_loss: 22.3744\n",
            "Epoch 55/200\n",
            "34/34 [==============================] - 0s 2ms/step - loss: 21.2344 - val_loss: 21.5769\n",
            "Epoch 56/200\n",
            "34/34 [==============================] - 0s 2ms/step - loss: 22.0063 - val_loss: 21.5795\n",
            "Epoch 57/200\n",
            "34/34 [==============================] - 0s 2ms/step - loss: 21.2488 - val_loss: 22.1434\n",
            "Epoch 58/200\n",
            "34/34 [==============================] - 0s 2ms/step - loss: 20.9851 - val_loss: 22.7199\n",
            "Epoch 59/200\n",
            "34/34 [==============================] - 0s 2ms/step - loss: 21.5702 - val_loss: 20.9132\n",
            "Epoch 60/200\n",
            "34/34 [==============================] - 0s 2ms/step - loss: 21.3882 - val_loss: 22.8111\n",
            "Epoch 61/200\n",
            "34/34 [==============================] - 0s 2ms/step - loss: 20.8983 - val_loss: 22.2269\n",
            "Epoch 62/200\n",
            "34/34 [==============================] - 0s 2ms/step - loss: 20.9884 - val_loss: 20.9958\n",
            "Epoch 63/200\n",
            "34/34 [==============================] - 0s 2ms/step - loss: 20.5382 - val_loss: 21.2316\n",
            "Epoch 64/200\n",
            "34/34 [==============================] - 0s 2ms/step - loss: 20.3003 - val_loss: 22.5441\n",
            "Epoch 65/200\n",
            "34/34 [==============================] - 0s 2ms/step - loss: 20.9078 - val_loss: 23.0535\n",
            "Epoch 66/200\n",
            "34/34 [==============================] - 0s 2ms/step - loss: 21.7640 - val_loss: 20.9248\n",
            "Epoch 67/200\n",
            "34/34 [==============================] - 0s 2ms/step - loss: 22.3148 - val_loss: 23.4447\n",
            "Epoch 68/200\n",
            "34/34 [==============================] - 0s 2ms/step - loss: 20.8941 - val_loss: 23.9207\n",
            "Epoch 69/200\n",
            "34/34 [==============================] - 0s 2ms/step - loss: 20.9224 - val_loss: 22.7626\n",
            "Epoch 70/200\n",
            "34/34 [==============================] - 0s 2ms/step - loss: 21.0439 - val_loss: 21.8280\n",
            "Epoch 71/200\n",
            "34/34 [==============================] - 0s 2ms/step - loss: 22.8910 - val_loss: 21.4592\n",
            "Epoch 72/200\n",
            "34/34 [==============================] - 0s 2ms/step - loss: 21.2002 - val_loss: 22.8693\n",
            "Epoch 73/200\n",
            "34/34 [==============================] - 0s 2ms/step - loss: 20.6498 - val_loss: 22.9395\n",
            "Epoch 74/200\n",
            "34/34 [==============================] - 0s 2ms/step - loss: 20.5471 - val_loss: 21.2470\n",
            "Epoch 75/200\n",
            "34/34 [==============================] - 0s 2ms/step - loss: 20.3681 - val_loss: 21.6074\n",
            "Epoch 76/200\n",
            "34/34 [==============================] - 0s 2ms/step - loss: 20.5315 - val_loss: 21.9508\n",
            "Epoch 77/200\n",
            "34/34 [==============================] - 0s 2ms/step - loss: 20.6284 - val_loss: 21.1757\n",
            "Epoch 78/200\n",
            "34/34 [==============================] - 0s 2ms/step - loss: 20.2362 - val_loss: 21.8902\n",
            "Epoch 79/200\n",
            "34/34 [==============================] - 0s 2ms/step - loss: 20.4539 - val_loss: 22.4622\n",
            "Epoch 80/200\n",
            "34/34 [==============================] - 0s 2ms/step - loss: 20.9325 - val_loss: 22.7445\n",
            "Epoch 81/200\n",
            "34/34 [==============================] - 0s 2ms/step - loss: 21.4755 - val_loss: 22.4866\n",
            "Epoch 82/200\n",
            "34/34 [==============================] - 0s 2ms/step - loss: 20.1771 - val_loss: 21.6876\n",
            "Epoch 83/200\n",
            "34/34 [==============================] - 0s 2ms/step - loss: 20.7470 - val_loss: 21.9592\n",
            "Epoch 84/200\n",
            "34/34 [==============================] - 0s 2ms/step - loss: 20.2331 - val_loss: 21.6336\n",
            "Epoch 85/200\n",
            "34/34 [==============================] - 0s 2ms/step - loss: 20.2791 - val_loss: 23.7934\n",
            "Epoch 86/200\n",
            "34/34 [==============================] - 0s 2ms/step - loss: 20.3039 - val_loss: 21.8545\n",
            "Epoch 87/200\n",
            "34/34 [==============================] - 0s 2ms/step - loss: 20.9832 - val_loss: 22.6200\n",
            "Epoch 88/200\n",
            "34/34 [==============================] - 0s 2ms/step - loss: 19.9312 - val_loss: 22.1346\n",
            "Epoch 89/200\n",
            "34/34 [==============================] - 0s 2ms/step - loss: 20.4115 - val_loss: 22.5486\n",
            "Epoch 90/200\n",
            "34/34 [==============================] - 0s 2ms/step - loss: 19.9200 - val_loss: 23.1989\n",
            "Epoch 91/200\n",
            "34/34 [==============================] - 0s 2ms/step - loss: 21.3864 - val_loss: 21.9005\n",
            "Epoch 92/200\n",
            "34/34 [==============================] - 0s 2ms/step - loss: 20.1283 - val_loss: 22.7785\n",
            "Epoch 93/200\n",
            "34/34 [==============================] - 0s 2ms/step - loss: 21.1552 - val_loss: 22.7010\n",
            "Epoch 94/200\n",
            "34/34 [==============================] - 0s 2ms/step - loss: 19.9142 - val_loss: 22.3216\n",
            "Epoch 95/200\n",
            "34/34 [==============================] - 0s 2ms/step - loss: 21.8294 - val_loss: 22.9014\n",
            "Epoch 96/200\n",
            "34/34 [==============================] - 0s 2ms/step - loss: 20.2124 - val_loss: 22.4662\n",
            "Epoch 97/200\n",
            "34/34 [==============================] - 0s 2ms/step - loss: 20.5476 - val_loss: 23.2310\n",
            "Epoch 98/200\n",
            "34/34 [==============================] - 0s 2ms/step - loss: 19.9967 - val_loss: 22.7013\n",
            "Epoch 99/200\n",
            "34/34 [==============================] - 0s 2ms/step - loss: 19.6750 - val_loss: 23.9565\n",
            "Epoch 100/200\n",
            "34/34 [==============================] - 0s 2ms/step - loss: 20.7147 - val_loss: 23.5191\n",
            "Epoch 101/200\n",
            "34/34 [==============================] - 0s 2ms/step - loss: 20.2340 - val_loss: 24.3699\n",
            "Epoch 102/200\n",
            "34/34 [==============================] - 0s 2ms/step - loss: 20.3473 - val_loss: 23.4297\n",
            "Epoch 103/200\n",
            "34/34 [==============================] - 0s 2ms/step - loss: 20.1164 - val_loss: 22.8750\n",
            "Epoch 104/200\n",
            "34/34 [==============================] - 0s 2ms/step - loss: 19.7194 - val_loss: 22.0909\n",
            "Epoch 105/200\n",
            "34/34 [==============================] - 0s 2ms/step - loss: 20.6830 - val_loss: 23.7263\n",
            "Epoch 106/200\n",
            "34/34 [==============================] - 0s 2ms/step - loss: 20.1291 - val_loss: 23.7414\n",
            "Epoch 107/200\n",
            "34/34 [==============================] - 0s 2ms/step - loss: 20.9963 - val_loss: 24.5397\n",
            "Epoch 108/200\n",
            "34/34 [==============================] - 0s 2ms/step - loss: 20.9963 - val_loss: 24.8591\n",
            "Epoch 109/200\n",
            "34/34 [==============================] - 0s 2ms/step - loss: 19.8635 - val_loss: 22.1829\n",
            "Epoch 110/200\n",
            "34/34 [==============================] - 0s 2ms/step - loss: 20.0682 - val_loss: 22.2876\n",
            "Epoch 111/200\n",
            "34/34 [==============================] - 0s 2ms/step - loss: 20.0110 - val_loss: 22.8934\n",
            "Epoch 112/200\n",
            "34/34 [==============================] - 0s 2ms/step - loss: 19.7523 - val_loss: 22.9589\n",
            "Epoch 113/200\n",
            "34/34 [==============================] - 0s 2ms/step - loss: 19.5543 - val_loss: 22.9314\n",
            "Epoch 114/200\n",
            "34/34 [==============================] - 0s 2ms/step - loss: 19.6110 - val_loss: 23.1326\n",
            "Epoch 115/200\n",
            "34/34 [==============================] - 0s 2ms/step - loss: 19.6974 - val_loss: 23.6255\n",
            "Epoch 116/200\n",
            "34/34 [==============================] - 0s 2ms/step - loss: 19.7243 - val_loss: 23.1743\n",
            "Epoch 117/200\n",
            "34/34 [==============================] - 0s 2ms/step - loss: 19.9888 - val_loss: 22.0802\n",
            "Epoch 118/200\n",
            "34/34 [==============================] - 0s 2ms/step - loss: 20.0242 - val_loss: 24.4375\n",
            "Epoch 119/200\n",
            "34/34 [==============================] - 0s 2ms/step - loss: 20.5811 - val_loss: 22.5545\n",
            "Epoch 120/200\n",
            "34/34 [==============================] - 0s 2ms/step - loss: 20.5753 - val_loss: 24.1105\n",
            "Epoch 121/200\n",
            "34/34 [==============================] - 0s 2ms/step - loss: 19.9455 - val_loss: 23.6455\n",
            "Epoch 122/200\n",
            "34/34 [==============================] - 0s 2ms/step - loss: 20.4140 - val_loss: 23.2164\n",
            "Epoch 123/200\n",
            "34/34 [==============================] - 0s 2ms/step - loss: 19.4759 - val_loss: 23.4975\n",
            "Epoch 124/200\n",
            "34/34 [==============================] - 0s 2ms/step - loss: 21.0085 - val_loss: 24.6546\n",
            "Epoch 125/200\n",
            "34/34 [==============================] - 0s 2ms/step - loss: 20.0801 - val_loss: 22.9882\n",
            "Epoch 126/200\n",
            "34/34 [==============================] - 0s 2ms/step - loss: 20.0907 - val_loss: 23.3555\n",
            "Epoch 127/200\n",
            "34/34 [==============================] - 0s 2ms/step - loss: 19.3063 - val_loss: 22.8517\n",
            "Epoch 128/200\n",
            "34/34 [==============================] - 0s 2ms/step - loss: 19.4447 - val_loss: 22.4804\n",
            "Epoch 129/200\n",
            "34/34 [==============================] - 0s 2ms/step - loss: 19.8160 - val_loss: 23.3685\n",
            "Epoch 130/200\n",
            "34/34 [==============================] - 0s 2ms/step - loss: 20.2876 - val_loss: 23.0896\n",
            "Epoch 131/200\n",
            "34/34 [==============================] - 0s 2ms/step - loss: 20.2028 - val_loss: 22.8302\n",
            "Epoch 132/200\n",
            "34/34 [==============================] - 0s 2ms/step - loss: 20.0964 - val_loss: 23.7614\n",
            "Epoch 133/200\n",
            "34/34 [==============================] - 0s 2ms/step - loss: 19.9004 - val_loss: 22.9923\n",
            "Epoch 134/200\n",
            "34/34 [==============================] - 0s 2ms/step - loss: 20.2779 - val_loss: 23.3626\n",
            "Epoch 135/200\n",
            "34/34 [==============================] - 0s 2ms/step - loss: 19.6856 - val_loss: 23.0976\n",
            "Epoch 136/200\n",
            "34/34 [==============================] - 0s 2ms/step - loss: 19.6620 - val_loss: 23.4396\n",
            "Epoch 137/200\n",
            "34/34 [==============================] - 0s 2ms/step - loss: 20.0795 - val_loss: 22.9325\n",
            "Epoch 138/200\n",
            "34/34 [==============================] - 0s 2ms/step - loss: 19.3508 - val_loss: 22.9083\n",
            "Epoch 139/200\n",
            "34/34 [==============================] - 0s 2ms/step - loss: 19.4804 - val_loss: 23.8130\n",
            "Epoch 140/200\n",
            "34/34 [==============================] - 0s 2ms/step - loss: 19.9781 - val_loss: 23.5179\n",
            "Epoch 141/200\n",
            "34/34 [==============================] - 0s 2ms/step - loss: 21.1169 - val_loss: 24.5253\n",
            "Epoch 142/200\n",
            "34/34 [==============================] - 0s 2ms/step - loss: 19.5812 - val_loss: 22.9695\n",
            "Epoch 143/200\n",
            "34/34 [==============================] - 0s 2ms/step - loss: 19.5651 - val_loss: 23.3950\n",
            "Epoch 144/200\n",
            "34/34 [==============================] - 0s 2ms/step - loss: 19.8108 - val_loss: 22.7290\n",
            "Epoch 145/200\n",
            "34/34 [==============================] - 0s 2ms/step - loss: 20.0575 - val_loss: 23.6375\n",
            "Epoch 146/200\n",
            "34/34 [==============================] - 0s 2ms/step - loss: 19.7889 - val_loss: 23.3889\n",
            "Epoch 147/200\n",
            "34/34 [==============================] - 0s 2ms/step - loss: 19.6983 - val_loss: 23.4463\n",
            "Epoch 148/200\n",
            "34/34 [==============================] - 0s 2ms/step - loss: 20.2165 - val_loss: 23.4348\n",
            "Epoch 149/200\n",
            "34/34 [==============================] - 0s 2ms/step - loss: 19.9000 - val_loss: 24.6430\n",
            "Epoch 150/200\n",
            "34/34 [==============================] - 0s 2ms/step - loss: 19.6900 - val_loss: 23.6602\n",
            "Epoch 151/200\n",
            "34/34 [==============================] - 0s 2ms/step - loss: 19.5862 - val_loss: 23.4195\n",
            "Epoch 152/200\n",
            "34/34 [==============================] - 0s 2ms/step - loss: 19.6068 - val_loss: 23.8503\n",
            "Epoch 153/200\n",
            "34/34 [==============================] - 0s 2ms/step - loss: 19.6036 - val_loss: 22.9339\n",
            "Epoch 154/200\n",
            "34/34 [==============================] - 0s 2ms/step - loss: 20.4154 - val_loss: 23.5161\n",
            "Epoch 155/200\n",
            "34/34 [==============================] - 0s 2ms/step - loss: 19.9121 - val_loss: 23.6634\n",
            "Epoch 156/200\n",
            "34/34 [==============================] - 0s 2ms/step - loss: 19.3264 - val_loss: 23.1974\n",
            "Epoch 157/200\n",
            "34/34 [==============================] - 0s 2ms/step - loss: 19.3186 - val_loss: 23.5838\n",
            "Epoch 158/200\n",
            "34/34 [==============================] - 0s 2ms/step - loss: 20.2400 - val_loss: 23.3173\n",
            "Epoch 159/200\n",
            "34/34 [==============================] - 0s 2ms/step - loss: 19.9566 - val_loss: 23.5465\n",
            "Epoch 160/200\n",
            "34/34 [==============================] - 0s 2ms/step - loss: 19.9157 - val_loss: 24.1107\n",
            "Epoch 161/200\n",
            "34/34 [==============================] - 0s 2ms/step - loss: 19.6360 - val_loss: 23.7629\n",
            "Epoch 162/200\n",
            "34/34 [==============================] - 0s 2ms/step - loss: 19.4949 - val_loss: 22.8536\n",
            "Epoch 163/200\n",
            "34/34 [==============================] - 0s 2ms/step - loss: 19.1416 - val_loss: 23.9168\n",
            "Epoch 164/200\n",
            "34/34 [==============================] - 0s 2ms/step - loss: 19.5501 - val_loss: 23.0354\n",
            "Epoch 165/200\n",
            "34/34 [==============================] - 0s 2ms/step - loss: 19.2814 - val_loss: 23.7711\n",
            "Epoch 166/200\n",
            "34/34 [==============================] - 0s 2ms/step - loss: 19.7307 - val_loss: 22.8307\n",
            "Epoch 167/200\n",
            "34/34 [==============================] - 0s 2ms/step - loss: 19.2642 - val_loss: 23.9076\n",
            "Epoch 168/200\n",
            "34/34 [==============================] - 0s 2ms/step - loss: 19.7134 - val_loss: 24.0867\n",
            "Epoch 169/200\n",
            "34/34 [==============================] - 0s 2ms/step - loss: 19.2122 - val_loss: 23.0982\n",
            "Epoch 170/200\n",
            "34/34 [==============================] - 0s 2ms/step - loss: 19.0930 - val_loss: 23.3691\n",
            "Epoch 171/200\n",
            "34/34 [==============================] - 0s 2ms/step - loss: 19.2697 - val_loss: 22.9632\n",
            "Epoch 172/200\n",
            "34/34 [==============================] - 0s 2ms/step - loss: 19.9770 - val_loss: 23.0350\n",
            "Epoch 173/200\n",
            "34/34 [==============================] - 0s 2ms/step - loss: 20.6716 - val_loss: 23.8117\n",
            "Epoch 174/200\n",
            "34/34 [==============================] - 0s 2ms/step - loss: 19.2843 - val_loss: 23.1378\n",
            "Epoch 175/200\n",
            "34/34 [==============================] - 0s 2ms/step - loss: 19.1689 - val_loss: 22.5336\n",
            "Epoch 176/200\n",
            "34/34 [==============================] - 0s 2ms/step - loss: 19.5912 - val_loss: 24.8440\n",
            "Epoch 177/200\n",
            "34/34 [==============================] - 0s 2ms/step - loss: 19.5388 - val_loss: 23.8755\n",
            "Epoch 178/200\n",
            "34/34 [==============================] - 0s 2ms/step - loss: 18.7556 - val_loss: 24.0954\n",
            "Epoch 179/200\n",
            "34/34 [==============================] - 0s 2ms/step - loss: 19.5649 - val_loss: 25.0494\n",
            "Epoch 180/200\n",
            "34/34 [==============================] - 0s 2ms/step - loss: 20.0417 - val_loss: 24.7786\n",
            "Epoch 181/200\n",
            "34/34 [==============================] - 0s 2ms/step - loss: 20.2617 - val_loss: 23.8326\n",
            "Epoch 182/200\n",
            "34/34 [==============================] - 0s 2ms/step - loss: 19.1127 - val_loss: 24.2140\n",
            "Epoch 183/200\n",
            "34/34 [==============================] - 0s 2ms/step - loss: 19.2940 - val_loss: 24.0873\n",
            "Epoch 184/200\n",
            "34/34 [==============================] - 0s 2ms/step - loss: 19.0421 - val_loss: 23.4427\n",
            "Epoch 185/200\n",
            "34/34 [==============================] - 0s 2ms/step - loss: 19.5139 - val_loss: 24.4855\n",
            "Epoch 186/200\n",
            "34/34 [==============================] - 0s 2ms/step - loss: 19.4625 - val_loss: 22.9908\n",
            "Epoch 187/200\n",
            "34/34 [==============================] - 0s 2ms/step - loss: 19.4344 - val_loss: 25.2595\n",
            "Epoch 188/200\n",
            "34/34 [==============================] - 0s 2ms/step - loss: 19.3116 - val_loss: 25.2624\n",
            "Epoch 189/200\n",
            "34/34 [==============================] - 0s 2ms/step - loss: 20.4681 - val_loss: 24.0366\n",
            "Epoch 190/200\n",
            "34/34 [==============================] - 0s 2ms/step - loss: 19.4724 - val_loss: 24.5255\n",
            "Epoch 191/200\n",
            "34/34 [==============================] - 0s 2ms/step - loss: 19.8057 - val_loss: 23.0830\n",
            "Epoch 192/200\n",
            "34/34 [==============================] - 0s 2ms/step - loss: 20.8436 - val_loss: 25.1321\n",
            "Epoch 193/200\n",
            "34/34 [==============================] - 0s 2ms/step - loss: 19.6343 - val_loss: 23.2458\n",
            "Epoch 194/200\n",
            "34/34 [==============================] - 0s 2ms/step - loss: 19.1250 - val_loss: 24.6827\n",
            "Epoch 195/200\n",
            "34/34 [==============================] - 0s 2ms/step - loss: 19.1747 - val_loss: 23.2847\n",
            "Epoch 196/200\n",
            "34/34 [==============================] - 0s 2ms/step - loss: 19.4941 - val_loss: 24.1020\n",
            "Epoch 197/200\n",
            "34/34 [==============================] - 0s 2ms/step - loss: 19.2710 - val_loss: 23.2643\n",
            "Epoch 198/200\n",
            "34/34 [==============================] - 0s 2ms/step - loss: 20.2293 - val_loss: 26.0908\n",
            "Epoch 199/200\n",
            "34/34 [==============================] - 0s 2ms/step - loss: 18.8821 - val_loss: 23.6246\n",
            "Epoch 200/200\n",
            "34/34 [==============================] - 0s 2ms/step - loss: 18.9124 - val_loss: 23.7164\n"
          ]
        }
      ]
    },
    {
      "cell_type": "code",
      "metadata": {
        "colab": {
          "base_uri": "https://localhost:8080/",
          "height": 621
        },
        "id": "r4rINZTp8tko",
        "outputId": "84d2cf73-6341-41de-cfe9-f776c9cdf759"
      },
      "source": [
        "import matplotlib.pyplot as plt\n",
        "plt.figure(figsize=(16,10)) \n",
        "epochs = range(1, len(regression_hist.history['loss']) + 1)\n",
        "plt.plot(epochs, regression_hist.history['loss'], label='Training Loss') \n",
        "plt.plot(epochs, regression_hist.history['val_loss'], label='Validation Loss') \n",
        "\n",
        "plt.title('Loss of Regression model')\n",
        "plt.xlabel('Epochs')\n",
        "plt.ylabel('Loss')\n",
        "plt.legend()\n",
        "plt.show()"
      ],
      "execution_count": 17,
      "outputs": [
        {
          "output_type": "display_data",
          "data": {
            "image/png": "[encoded data removed]",
            "text/plain": [
              "<Figure size 1152x720 with 1 Axes>"
            ]
          },
          "metadata": {
            "needs_background": "light"
          }
        }
      ]
    },
    {
      "cell_type": "code",
      "metadata": {
        "id": "f7XdGitst6L8",
        "colab": {
          "base_uri": "https://localhost:8080/"
        },
        "outputId": "bc5e3bd8-84ef-44dd-c365-a2a20ef703c9"
      },
      "source": [
        "# make predictions on the testing data\n",
        "print(\"[INFO] predicting house prices...\")\n",
        "preds = model.predict(testX)"
      ],
      "execution_count": 19,
      "outputs": [
        {
          "output_type": "stream",
          "name": "stdout",
          "text": [
            "[INFO] predicting house prices...\n"
          ]
        }
      ]
    },
    {
      "cell_type": "code",
      "metadata": {
        "id": "dj_GyDrMt6JF"
      },
      "source": [
        "# compute the difference between the *predicted* house prices and the\n",
        "# *actual* house prices, then compute the percentage difference and\n",
        "# the absolute percentage difference\n",
        "diff = preds.flatten() - testY\n",
        "percentDiff = (diff / testY) * 100\n",
        "absPercentDiff = np.abs(percentDiff)"
      ],
      "execution_count": 20,
      "outputs": []
    },
    {
      "cell_type": "code",
      "metadata": {
        "id": "x2UHYlnrbugz"
      },
      "source": [
        "# compute the mean and standard deviation of the absolute percentage\n",
        "# difference\n",
        "mean = np.mean(absPercentDiff)\n",
        "std = np.std(absPercentDiff)"
      ],
      "execution_count": 21,
      "outputs": []
    },
    {
      "cell_type": "code",
      "metadata": {
        "id": "B3JGK60OvSXM",
        "colab": {
          "base_uri": "https://localhost:8080/"
        },
        "outputId": "712e61b9-1db5-45d9-f18f-3f5fbaecea3b"
      },
      "source": [
        "# finally, show some statistics on our model\n",
        "locale.setlocale(locale.LC_ALL, \"en_US.UTF-8\")\n",
        "print(\"[INFO] avg. house price: {}, std house price: {}\".format(\n",
        "\tlocale.currency(df[\"price\"].mean(), grouping=True),\n",
        "\tlocale.currency(df[\"price\"].std(), grouping=True)))\n",
        "print(\"[INFO] mean: {:.2f}%, std: {:.2f}%\".format(mean, std))"
      ],
      "execution_count": 22,
      "outputs": [
        {
          "output_type": "stream",
          "name": "stdout",
          "text": [
            "[INFO] avg. house price: $533,388.27, std house price: $493,403.08\n",
            "[INFO] mean: 23.72%, std: 23.34%\n"
          ]
        }
      ]
    }
  ]
}
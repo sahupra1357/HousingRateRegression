{
  "nbformat": 4,
  "nbformat_minor": 0,
  "metadata": {
    "colab": {
      "name": "cnn_regressionGraph.ipynb",
      "provenance": [],
      "authorship_tag": "ABX9TyOQR6FOUBzaCRE6rdbzH4mS",
      "include_colab_link": true
    },
    "kernelspec": {
      "name": "python3",
      "display_name": "Python 3"
    },
    "language_info": {
      "name": "python"
    }
  },
  "cells": [
    {
      "cell_type": "markdown",
      "metadata": {
        "id": "view-in-github",
        "colab_type": "text"
      },
      "source": [
        "<a href=\"https://colab.research.google.com/github/sahupra1357/HousingRateRegression/blob/main/cnn_regressionGraph.ipynb\" target=\"_parent\"><img src=\"https://colab.research.google.com/assets/colab-badge.svg\" alt=\"Open In Colab\"/></a>"
      ]
    },
    {
      "cell_type": "code",
      "metadata": {
        "colab": {
          "base_uri": "https://localhost:8080/"
        },
        "id": "yNT_cYGlxQMU",
        "outputId": "190b64a0-f648-4a3f-f6d6-91c2594544f6"
      },
      "source": [
        "!git clone https://github.com/emanhamed/Houses-dataset.git"
      ],
      "execution_count": 1,
      "outputs": [
        {
          "output_type": "stream",
          "name": "stdout",
          "text": [
            "Cloning into 'Houses-dataset'...\n",
            "remote: Enumerating objects: 2166, done.\u001b[K\n",
            "remote: Counting objects: 100% (1/1), done.\u001b[K\n",
            "remote: Total 2166 (delta 0), reused 0 (delta 0), pack-reused 2165\u001b[K\n",
            "Receiving objects: 100% (2166/2166), 176.26 MiB | 40.17 MiB/s, done.\n",
            "Resolving deltas: 100% (20/20), done.\n"
          ]
        }
      ]
    },
    {
      "cell_type": "code",
      "metadata": {
        "colab": {
          "base_uri": "https://localhost:8080/"
        },
        "id": "Rw5TTSuPxQI5",
        "outputId": "dba18951-b876-40a7-c607-40ba50bfda96"
      },
      "source": [
        "!pip install requests"
      ],
      "execution_count": 2,
      "outputs": [
        {
          "output_type": "stream",
          "name": "stdout",
          "text": [
            "Requirement already satisfied: requests in /usr/local/lib/python3.7/dist-packages (2.23.0)\n",
            "Requirement already satisfied: certifi>=2017.4.17 in /usr/local/lib/python3.7/dist-packages (from requests) (2021.5.30)\n",
            "Requirement already satisfied: chardet<4,>=3.0.2 in /usr/local/lib/python3.7/dist-packages (from requests) (3.0.4)\n",
            "Requirement already satisfied: urllib3!=1.25.0,!=1.25.1,<1.26,>=1.21.1 in /usr/local/lib/python3.7/dist-packages (from requests) (1.24.3)\n",
            "Requirement already satisfied: idna<3,>=2.5 in /usr/local/lib/python3.7/dist-packages (from requests) (2.10)\n"
          ]
        }
      ]
    },
    {
      "cell_type": "code",
      "metadata": {
        "id": "IqA66QJXxQFp"
      },
      "source": [
        "import requests\n",
        "# Save datagenerators as file to colab working directory\n",
        "# If you are using GitHub, make sure you get the \"Raw\" version of the code\n",
        "url = 'https://raw.githubusercontent.com/sahupra1357/HousingRateRegression/main/pyimagesearch/datasets.py'\n",
        "r = requests.get(url)\n",
        "\n",
        "# make sure your filename is the same as how you want to import \n",
        "with open('datasets.py', 'w') as f:\n",
        "    f.write(r.text)\n",
        "\n",
        "url = 'https://raw.githubusercontent.com/sahupra1357/HousingRateRegression/main/pyimagesearch/models.py'\n",
        "r = requests.get(url)\n",
        "\n",
        "# make sure your filename is the same as how you want to import \n",
        "with open('models.py', 'w') as f:\n",
        "    f.write(r.text)\n",
        "\n",
        "import datasets\n",
        "import models"
      ],
      "execution_count": 3,
      "outputs": []
    },
    {
      "cell_type": "code",
      "metadata": {
        "id": "-KBieCoYxJU7"
      },
      "source": [
        "# import the necessary packages\n",
        "from tensorflow.keras.optimizers import Adam\n",
        "from sklearn.model_selection import train_test_split\n",
        "import numpy as np\n",
        "import argparse\n",
        "import locale\n",
        "import os"
      ],
      "execution_count": 4,
      "outputs": []
    },
    {
      "cell_type": "code",
      "metadata": {
        "colab": {
          "base_uri": "https://localhost:8080/"
        },
        "id": "rdXMdaWoxJR0",
        "outputId": "77bf9812-2e3e-45bc-ea35-bb9591e8ffce"
      },
      "source": [
        "# construct the path to the input .txt file that contains information\n",
        "# on each house in the dataset and then load the dataset\n",
        "print(\"[INFO] loading house attributes...\")\n",
        "inputPath = os.path.sep.join([\"Houses-dataset/Houses Dataset\", \"HousesInfo.txt\"])\n",
        "df = datasets.load_house_attributes(inputPath)\n"
      ],
      "execution_count": 5,
      "outputs": [
        {
          "output_type": "stream",
          "name": "stdout",
          "text": [
            "[INFO] loading house attributes...\n"
          ]
        }
      ]
    },
    {
      "cell_type": "code",
      "metadata": {
        "colab": {
          "base_uri": "https://localhost:8080/"
        },
        "id": "r4JxPJIlxJOx",
        "outputId": "6715b79c-af72-47fe-f688-71b022e38028"
      },
      "source": [
        "# load the house images and then scale the pixel intensities to the\n",
        "# range [0, 1]\n",
        "print(\"[INFO] loading house images...\")\n",
        "images = datasets.load_house_images(df, \"Houses-dataset/Houses Dataset\")\n",
        "images = images / 255.0"
      ],
      "execution_count": 6,
      "outputs": [
        {
          "output_type": "stream",
          "name": "stdout",
          "text": [
            "[INFO] loading house images...\n"
          ]
        }
      ]
    },
    {
      "cell_type": "code",
      "metadata": {
        "id": "VyQ2EV82xJL6"
      },
      "source": [
        "# partition the data into training and testing splits using 75% of\n",
        "# the data for training and the remaining 25% for testing\n",
        "split = train_test_split(df, images, test_size=0.25, random_state=42)\n",
        "(trainAttrX, testAttrX, trainImagesX, testImagesX) = split"
      ],
      "execution_count": 7,
      "outputs": []
    },
    {
      "cell_type": "code",
      "metadata": {
        "id": "YSMLCit6xJJF",
        "colab": {
          "base_uri": "https://localhost:8080/"
        },
        "outputId": "b3d1b6ca-a7ca-4ca2-8369-8aff4c366dcc"
      },
      "source": [
        "# find the largest house price in the training set and use it to\n",
        "# scale our house prices to the range [0, 1] (will lead to better\n",
        "# training and convergence)\n",
        "maxPrice = trainAttrX[\"price\"].max()\n",
        "trainY = trainAttrX[\"price\"] / maxPrice\n",
        "testY = testAttrX[\"price\"] / maxPrice\n",
        "# create our Convolutional Neural Network and then compile the model\n",
        "# using mean absolute percentage error as our loss, implying that we\n",
        "# seek to minimize the absolute percentage difference between our\n",
        "# price *predictions* and the *actual prices*\n",
        "model = models.create_cnn(64, 64, 3, regress=True)\n",
        "opt = Adam(learning_rate=1e-3, decay=1e-3 / 200)\n",
        "model.compile(loss=\"mean_absolute_percentage_error\", optimizer=opt)\n",
        "# train the model\n",
        "print(\"[INFO] training model...\")\n",
        "cnn_hist = model.fit(x=trainImagesX, y=trainY, \n",
        "    validation_data=(testImagesX, testY),\n",
        "    epochs=200, batch_size=8)"
      ],
      "execution_count": 8,
      "outputs": [
        {
          "output_type": "stream",
          "name": "stdout",
          "text": [
            "[INFO] training model...\n",
            "Epoch 1/200\n",
            "34/34 [==============================] - 4s 61ms/step - loss: 709.9443 - val_loss: 82.9945\n",
            "Epoch 2/200\n",
            "34/34 [==============================] - 2s 56ms/step - loss: 535.7722 - val_loss: 178.6333\n",
            "Epoch 3/200\n",
            "34/34 [==============================] - 2s 56ms/step - loss: 406.3713 - val_loss: 246.3777\n",
            "Epoch 4/200\n",
            "34/34 [==============================] - 2s 58ms/step - loss: 265.2541 - val_loss: 402.4025\n",
            "Epoch 5/200\n",
            "34/34 [==============================] - 2s 57ms/step - loss: 201.4034 - val_loss: 642.2887\n",
            "Epoch 6/200\n",
            "34/34 [==============================] - 2s 58ms/step - loss: 217.1942 - val_loss: 769.6618\n",
            "Epoch 7/200\n",
            "34/34 [==============================] - 2s 58ms/step - loss: 136.1579 - val_loss: 1054.3392\n",
            "Epoch 8/200\n",
            "34/34 [==============================] - 2s 58ms/step - loss: 96.6447 - val_loss: 1125.4458\n",
            "Epoch 9/200\n",
            "34/34 [==============================] - 2s 57ms/step - loss: 106.2153 - val_loss: 870.4292\n",
            "Epoch 10/200\n",
            "34/34 [==============================] - 2s 57ms/step - loss: 94.4393 - val_loss: 759.0854\n",
            "Epoch 11/200\n",
            "34/34 [==============================] - 2s 57ms/step - loss: 105.6326 - val_loss: 687.2100\n",
            "Epoch 12/200\n",
            "34/34 [==============================] - 2s 58ms/step - loss: 81.7577 - val_loss: 379.3031\n",
            "Epoch 13/200\n",
            "34/34 [==============================] - 2s 57ms/step - loss: 73.3417 - val_loss: 226.7952\n",
            "Epoch 14/200\n",
            "34/34 [==============================] - 2s 57ms/step - loss: 74.5755 - val_loss: 514.1463\n",
            "Epoch 15/200\n",
            "34/34 [==============================] - 2s 59ms/step - loss: 73.9684 - val_loss: 297.9026\n",
            "Epoch 16/200\n",
            "34/34 [==============================] - 2s 58ms/step - loss: 75.8753 - val_loss: 153.4272\n",
            "Epoch 17/200\n",
            "34/34 [==============================] - 2s 58ms/step - loss: 70.2799 - val_loss: 109.0835\n",
            "Epoch 18/200\n",
            "34/34 [==============================] - 2s 58ms/step - loss: 76.2729 - val_loss: 95.7694\n",
            "Epoch 19/200\n",
            "34/34 [==============================] - 2s 58ms/step - loss: 68.8847 - val_loss: 82.5921\n",
            "Epoch 20/200\n",
            "34/34 [==============================] - 2s 58ms/step - loss: 69.0187 - val_loss: 82.2006\n",
            "Epoch 21/200\n",
            "34/34 [==============================] - 2s 57ms/step - loss: 64.8059 - val_loss: 77.4528\n",
            "Epoch 22/200\n",
            "34/34 [==============================] - 2s 56ms/step - loss: 62.0279 - val_loss: 71.0648\n",
            "Epoch 23/200\n",
            "34/34 [==============================] - 2s 57ms/step - loss: 58.5645 - val_loss: 68.5658\n",
            "Epoch 24/200\n",
            "34/34 [==============================] - 2s 58ms/step - loss: 60.3565 - val_loss: 70.7791\n",
            "Epoch 25/200\n",
            "34/34 [==============================] - 2s 59ms/step - loss: 62.0358 - val_loss: 69.9900\n",
            "Epoch 26/200\n",
            "34/34 [==============================] - 2s 57ms/step - loss: 60.8811 - val_loss: 69.6373\n",
            "Epoch 27/200\n",
            "34/34 [==============================] - 2s 58ms/step - loss: 60.6359 - val_loss: 67.3296\n",
            "Epoch 28/200\n",
            "34/34 [==============================] - 2s 58ms/step - loss: 65.6269 - val_loss: 63.9045\n",
            "Epoch 29/200\n",
            "34/34 [==============================] - 2s 58ms/step - loss: 58.6122 - val_loss: 62.4428\n",
            "Epoch 30/200\n",
            "34/34 [==============================] - 2s 59ms/step - loss: 61.5349 - val_loss: 60.5079\n",
            "Epoch 31/200\n",
            "34/34 [==============================] - 2s 59ms/step - loss: 57.0609 - val_loss: 62.6705\n",
            "Epoch 32/200\n",
            "34/34 [==============================] - 2s 58ms/step - loss: 57.9681 - val_loss: 59.9156\n",
            "Epoch 33/200\n",
            "34/34 [==============================] - 2s 57ms/step - loss: 54.0136 - val_loss: 59.4743\n",
            "Epoch 34/200\n",
            "34/34 [==============================] - 2s 58ms/step - loss: 57.5369 - val_loss: 60.8750\n",
            "Epoch 35/200\n",
            "34/34 [==============================] - 2s 58ms/step - loss: 59.0026 - val_loss: 58.7031\n",
            "Epoch 36/200\n",
            "34/34 [==============================] - 2s 59ms/step - loss: 55.9921 - val_loss: 58.1978\n",
            "Epoch 37/200\n",
            "34/34 [==============================] - 2s 59ms/step - loss: 56.3629 - val_loss: 58.2594\n",
            "Epoch 38/200\n",
            "34/34 [==============================] - 2s 58ms/step - loss: 57.6956 - val_loss: 58.6242\n",
            "Epoch 39/200\n",
            "34/34 [==============================] - 2s 58ms/step - loss: 53.2434 - val_loss: 57.5273\n",
            "Epoch 40/200\n",
            "34/34 [==============================] - 2s 58ms/step - loss: 52.2905 - val_loss: 57.6744\n",
            "Epoch 41/200\n",
            "34/34 [==============================] - 2s 59ms/step - loss: 53.0446 - val_loss: 57.2938\n",
            "Epoch 42/200\n",
            "34/34 [==============================] - 2s 58ms/step - loss: 54.1519 - val_loss: 58.5383\n",
            "Epoch 43/200\n",
            "34/34 [==============================] - 2s 58ms/step - loss: 50.2515 - val_loss: 55.6918\n",
            "Epoch 44/200\n",
            "34/34 [==============================] - 2s 59ms/step - loss: 59.8065 - val_loss: 58.1232\n",
            "Epoch 45/200\n",
            "34/34 [==============================] - 2s 59ms/step - loss: 51.8266 - val_loss: 57.0973\n",
            "Epoch 46/200\n",
            "34/34 [==============================] - 2s 59ms/step - loss: 54.2584 - val_loss: 56.0883\n",
            "Epoch 47/200\n",
            "34/34 [==============================] - 2s 58ms/step - loss: 51.2627 - val_loss: 60.9260\n",
            "Epoch 48/200\n",
            "34/34 [==============================] - 2s 58ms/step - loss: 51.5216 - val_loss: 58.4953\n",
            "Epoch 49/200\n",
            "34/34 [==============================] - 2s 60ms/step - loss: 54.1491 - val_loss: 61.8993\n",
            "Epoch 50/200\n",
            "34/34 [==============================] - 2s 59ms/step - loss: 48.6444 - val_loss: 56.1640\n",
            "Epoch 51/200\n",
            "34/34 [==============================] - 2s 60ms/step - loss: 54.1497 - val_loss: 56.3374\n",
            "Epoch 52/200\n",
            "34/34 [==============================] - 2s 59ms/step - loss: 55.2789 - val_loss: 56.8712\n",
            "Epoch 53/200\n",
            "34/34 [==============================] - 2s 59ms/step - loss: 51.6615 - val_loss: 55.5837\n",
            "Epoch 54/200\n",
            "34/34 [==============================] - 2s 58ms/step - loss: 53.0163 - val_loss: 53.6416\n",
            "Epoch 55/200\n",
            "34/34 [==============================] - 2s 59ms/step - loss: 48.6517 - val_loss: 53.4920\n",
            "Epoch 56/200\n",
            "34/34 [==============================] - 2s 59ms/step - loss: 52.2434 - val_loss: 60.0897\n",
            "Epoch 57/200\n",
            "34/34 [==============================] - 2s 59ms/step - loss: 52.6094 - val_loss: 59.0122\n",
            "Epoch 58/200\n",
            "34/34 [==============================] - 2s 59ms/step - loss: 48.9606 - val_loss: 53.7197\n",
            "Epoch 59/200\n",
            "34/34 [==============================] - 2s 58ms/step - loss: 49.0679 - val_loss: 52.6730\n",
            "Epoch 60/200\n",
            "34/34 [==============================] - 2s 58ms/step - loss: 49.4811 - val_loss: 53.8819\n",
            "Epoch 61/200\n",
            "34/34 [==============================] - 2s 58ms/step - loss: 43.1362 - val_loss: 53.4260\n",
            "Epoch 62/200\n",
            "34/34 [==============================] - 2s 58ms/step - loss: 49.5227 - val_loss: 55.3116\n",
            "Epoch 63/200\n",
            "34/34 [==============================] - 2s 57ms/step - loss: 43.7084 - val_loss: 54.3514\n",
            "Epoch 64/200\n",
            "34/34 [==============================] - 2s 60ms/step - loss: 49.5893 - val_loss: 54.2726\n",
            "Epoch 65/200\n",
            "34/34 [==============================] - 2s 59ms/step - loss: 49.9964 - val_loss: 55.9518\n",
            "Epoch 66/200\n",
            "34/34 [==============================] - 2s 61ms/step - loss: 47.0318 - val_loss: 56.1237\n",
            "Epoch 67/200\n",
            "34/34 [==============================] - 2s 60ms/step - loss: 48.1495 - val_loss: 55.5121\n",
            "Epoch 68/200\n",
            "34/34 [==============================] - 2s 59ms/step - loss: 46.8049 - val_loss: 62.7183\n",
            "Epoch 69/200\n",
            "34/34 [==============================] - 2s 59ms/step - loss: 46.4194 - val_loss: 52.6721\n",
            "Epoch 70/200\n",
            "34/34 [==============================] - 2s 58ms/step - loss: 44.4789 - val_loss: 56.9202\n",
            "Epoch 71/200\n",
            "34/34 [==============================] - 2s 59ms/step - loss: 46.4941 - val_loss: 67.0731\n",
            "Epoch 72/200\n",
            "34/34 [==============================] - 2s 59ms/step - loss: 44.1830 - val_loss: 57.3542\n",
            "Epoch 73/200\n",
            "34/34 [==============================] - 2s 59ms/step - loss: 45.3799 - val_loss: 53.7053\n",
            "Epoch 74/200\n",
            "34/34 [==============================] - 2s 59ms/step - loss: 48.1559 - val_loss: 54.4613\n",
            "Epoch 75/200\n",
            "34/34 [==============================] - 2s 60ms/step - loss: 45.1167 - val_loss: 53.6571\n",
            "Epoch 76/200\n",
            "34/34 [==============================] - 2s 61ms/step - loss: 44.8845 - val_loss: 53.5546\n",
            "Epoch 77/200\n",
            "34/34 [==============================] - 2s 60ms/step - loss: 43.4404 - val_loss: 68.0473\n",
            "Epoch 78/200\n",
            "34/34 [==============================] - 2s 60ms/step - loss: 45.9011 - val_loss: 57.0536\n",
            "Epoch 79/200\n",
            "34/34 [==============================] - 2s 61ms/step - loss: 45.1978 - val_loss: 51.3267\n",
            "Epoch 80/200\n",
            "34/34 [==============================] - 2s 60ms/step - loss: 43.9632 - val_loss: 54.2765\n",
            "Epoch 81/200\n",
            "34/34 [==============================] - 2s 60ms/step - loss: 44.5177 - val_loss: 54.5306\n",
            "Epoch 82/200\n",
            "34/34 [==============================] - 2s 60ms/step - loss: 44.5794 - val_loss: 53.4047\n",
            "Epoch 83/200\n",
            "34/34 [==============================] - 2s 60ms/step - loss: 43.3143 - val_loss: 54.2743\n",
            "Epoch 84/200\n",
            "34/34 [==============================] - 2s 60ms/step - loss: 45.4365 - val_loss: 57.2984\n",
            "Epoch 85/200\n",
            "34/34 [==============================] - 2s 60ms/step - loss: 47.8598 - val_loss: 57.3849\n",
            "Epoch 86/200\n",
            "34/34 [==============================] - 2s 60ms/step - loss: 38.8707 - val_loss: 51.0773\n",
            "Epoch 87/200\n",
            "34/34 [==============================] - 2s 60ms/step - loss: 41.2087 - val_loss: 48.2365\n",
            "Epoch 88/200\n",
            "34/34 [==============================] - 2s 60ms/step - loss: 44.7389 - val_loss: 52.8805\n",
            "Epoch 89/200\n",
            "34/34 [==============================] - 2s 60ms/step - loss: 42.8113 - val_loss: 53.9263\n",
            "Epoch 90/200\n",
            "34/34 [==============================] - 2s 59ms/step - loss: 39.8223 - val_loss: 53.6482\n",
            "Epoch 91/200\n",
            "34/34 [==============================] - 2s 60ms/step - loss: 39.6938 - val_loss: 53.3936\n",
            "Epoch 92/200\n",
            "34/34 [==============================] - 2s 59ms/step - loss: 42.8972 - val_loss: 55.0691\n",
            "Epoch 93/200\n",
            "34/34 [==============================] - 2s 60ms/step - loss: 45.4810 - val_loss: 54.2754\n",
            "Epoch 94/200\n",
            "34/34 [==============================] - 2s 60ms/step - loss: 44.3916 - val_loss: 56.4062\n",
            "Epoch 95/200\n",
            "34/34 [==============================] - 2s 60ms/step - loss: 41.6979 - val_loss: 53.2722\n",
            "Epoch 96/200\n",
            "34/34 [==============================] - 2s 61ms/step - loss: 44.0684 - val_loss: 53.8034\n",
            "Epoch 97/200\n",
            "34/34 [==============================] - 2s 60ms/step - loss: 43.9682 - val_loss: 54.6909\n",
            "Epoch 98/200\n",
            "34/34 [==============================] - 2s 60ms/step - loss: 37.7690 - val_loss: 55.1504\n",
            "Epoch 99/200\n",
            "34/34 [==============================] - 2s 61ms/step - loss: 38.5433 - val_loss: 53.7382\n",
            "Epoch 100/200\n",
            "34/34 [==============================] - 2s 60ms/step - loss: 40.6478 - val_loss: 54.0036\n",
            "Epoch 101/200\n",
            "34/34 [==============================] - 2s 60ms/step - loss: 40.0786 - val_loss: 56.5802\n",
            "Epoch 102/200\n",
            "34/34 [==============================] - 2s 60ms/step - loss: 45.4333 - val_loss: 70.2023\n",
            "Epoch 103/200\n",
            "34/34 [==============================] - 2s 65ms/step - loss: 38.4526 - val_loss: 58.1037\n",
            "Epoch 104/200\n",
            "34/34 [==============================] - 2s 60ms/step - loss: 38.8469 - val_loss: 79.1111\n",
            "Epoch 105/200\n",
            "34/34 [==============================] - 2s 60ms/step - loss: 42.4287 - val_loss: 67.9046\n",
            "Epoch 106/200\n",
            "34/34 [==============================] - 2s 60ms/step - loss: 38.1883 - val_loss: 54.3667\n",
            "Epoch 107/200\n",
            "34/34 [==============================] - 2s 60ms/step - loss: 40.6731 - val_loss: 55.3917\n",
            "Epoch 108/200\n",
            "34/34 [==============================] - 2s 60ms/step - loss: 39.0806 - val_loss: 52.0340\n",
            "Epoch 109/200\n",
            "34/34 [==============================] - 2s 60ms/step - loss: 34.6603 - val_loss: 51.7804\n",
            "Epoch 110/200\n",
            "34/34 [==============================] - 2s 60ms/step - loss: 42.0322 - val_loss: 56.3913\n",
            "Epoch 111/200\n",
            "34/34 [==============================] - 2s 60ms/step - loss: 39.0184 - val_loss: 51.4257\n",
            "Epoch 112/200\n",
            "34/34 [==============================] - 2s 60ms/step - loss: 37.7666 - val_loss: 54.6513\n",
            "Epoch 113/200\n",
            "34/34 [==============================] - 2s 60ms/step - loss: 39.1448 - val_loss: 71.1563\n",
            "Epoch 114/200\n",
            "34/34 [==============================] - 2s 60ms/step - loss: 41.0776 - val_loss: 52.9777\n",
            "Epoch 115/200\n",
            "34/34 [==============================] - 2s 60ms/step - loss: 42.9871 - val_loss: 55.5806\n",
            "Epoch 116/200\n",
            "34/34 [==============================] - 2s 61ms/step - loss: 38.9103 - val_loss: 54.2076\n",
            "Epoch 117/200\n",
            "34/34 [==============================] - 2s 61ms/step - loss: 39.1942 - val_loss: 54.0733\n",
            "Epoch 118/200\n",
            "34/34 [==============================] - 2s 61ms/step - loss: 38.9001 - val_loss: 53.8380\n",
            "Epoch 119/200\n",
            "34/34 [==============================] - 2s 61ms/step - loss: 35.8905 - val_loss: 55.6283\n",
            "Epoch 120/200\n",
            "34/34 [==============================] - 2s 61ms/step - loss: 35.7451 - val_loss: 60.7949\n",
            "Epoch 121/200\n",
            "34/34 [==============================] - 2s 61ms/step - loss: 38.8350 - val_loss: 56.7157\n",
            "Epoch 122/200\n",
            "34/34 [==============================] - 2s 60ms/step - loss: 38.8486 - val_loss: 71.6940\n",
            "Epoch 123/200\n",
            "34/34 [==============================] - 2s 61ms/step - loss: 38.3158 - val_loss: 56.5922\n",
            "Epoch 124/200\n",
            "34/34 [==============================] - 2s 60ms/step - loss: 38.8415 - val_loss: 55.2661\n",
            "Epoch 125/200\n",
            "34/34 [==============================] - 2s 61ms/step - loss: 38.0233 - val_loss: 58.0462\n",
            "Epoch 126/200\n",
            "34/34 [==============================] - 2s 60ms/step - loss: 40.7467 - val_loss: 55.3070\n",
            "Epoch 127/200\n",
            "34/34 [==============================] - 2s 60ms/step - loss: 38.8582 - val_loss: 59.0388\n",
            "Epoch 128/200\n",
            "34/34 [==============================] - 2s 61ms/step - loss: 38.7299 - val_loss: 55.7502\n",
            "Epoch 129/200\n",
            "34/34 [==============================] - 2s 61ms/step - loss: 34.1239 - val_loss: 55.5074\n",
            "Epoch 130/200\n",
            "34/34 [==============================] - 2s 61ms/step - loss: 36.9167 - val_loss: 78.3791\n",
            "Epoch 131/200\n",
            "34/34 [==============================] - 2s 61ms/step - loss: 39.1765 - val_loss: 96.5341\n",
            "Epoch 132/200\n",
            "34/34 [==============================] - 2s 61ms/step - loss: 36.1265 - val_loss: 89.5905\n",
            "Epoch 133/200\n",
            "34/34 [==============================] - 2s 60ms/step - loss: 36.2406 - val_loss: 57.2132\n",
            "Epoch 134/200\n",
            "34/34 [==============================] - 2s 61ms/step - loss: 37.9615 - val_loss: 111.1846\n",
            "Epoch 135/200\n",
            "34/34 [==============================] - 2s 60ms/step - loss: 39.3823 - val_loss: 56.1488\n",
            "Epoch 136/200\n",
            "34/34 [==============================] - 2s 60ms/step - loss: 39.4671 - val_loss: 58.5800\n",
            "Epoch 137/200\n",
            "34/34 [==============================] - 2s 61ms/step - loss: 38.1144 - val_loss: 57.7879\n",
            "Epoch 138/200\n",
            "34/34 [==============================] - 2s 61ms/step - loss: 40.8825 - val_loss: 64.1088\n",
            "Epoch 139/200\n",
            "34/34 [==============================] - 2s 61ms/step - loss: 40.5947 - val_loss: 54.7500\n",
            "Epoch 140/200\n",
            "34/34 [==============================] - 2s 60ms/step - loss: 37.6930 - val_loss: 54.0876\n",
            "Epoch 141/200\n",
            "34/34 [==============================] - 2s 60ms/step - loss: 35.3320 - val_loss: 56.1681\n",
            "Epoch 142/200\n",
            "34/34 [==============================] - 2s 61ms/step - loss: 35.3916 - val_loss: 53.2760\n",
            "Epoch 143/200\n",
            "34/34 [==============================] - 2s 61ms/step - loss: 36.4681 - val_loss: 55.5951\n",
            "Epoch 144/200\n",
            "34/34 [==============================] - 2s 61ms/step - loss: 40.2853 - val_loss: 57.6816\n",
            "Epoch 145/200\n",
            "34/34 [==============================] - 2s 61ms/step - loss: 36.9273 - val_loss: 58.6021\n",
            "Epoch 146/200\n",
            "34/34 [==============================] - 2s 61ms/step - loss: 36.4117 - val_loss: 61.8869\n",
            "Epoch 147/200\n",
            "34/34 [==============================] - 2s 61ms/step - loss: 37.1989 - val_loss: 61.7884\n",
            "Epoch 148/200\n",
            "34/34 [==============================] - 2s 60ms/step - loss: 36.4126 - val_loss: 55.8872\n",
            "Epoch 149/200\n",
            "34/34 [==============================] - 2s 61ms/step - loss: 33.0409 - val_loss: 54.3163\n",
            "Epoch 150/200\n",
            "34/34 [==============================] - 2s 61ms/step - loss: 36.0137 - val_loss: 62.3716\n",
            "Epoch 151/200\n",
            "34/34 [==============================] - 2s 60ms/step - loss: 34.0873 - val_loss: 55.5219\n",
            "Epoch 152/200\n",
            "34/34 [==============================] - 2s 61ms/step - loss: 33.1261 - val_loss: 54.1876\n",
            "Epoch 153/200\n",
            "34/34 [==============================] - 2s 62ms/step - loss: 34.6614 - val_loss: 51.9789\n",
            "Epoch 154/200\n",
            "34/34 [==============================] - 2s 62ms/step - loss: 38.2850 - val_loss: 49.4284\n",
            "Epoch 155/200\n",
            "34/34 [==============================] - 2s 61ms/step - loss: 37.8578 - val_loss: 62.2141\n",
            "Epoch 156/200\n",
            "34/34 [==============================] - 2s 61ms/step - loss: 36.7680 - val_loss: 49.6151\n",
            "Epoch 157/200\n",
            "34/34 [==============================] - 2s 61ms/step - loss: 37.3849 - val_loss: 64.7184\n",
            "Epoch 158/200\n",
            "34/34 [==============================] - 2s 61ms/step - loss: 34.8199 - val_loss: 48.0710\n",
            "Epoch 159/200\n",
            "34/34 [==============================] - 2s 61ms/step - loss: 37.3543 - val_loss: 60.3986\n",
            "Epoch 160/200\n",
            "34/34 [==============================] - 2s 61ms/step - loss: 40.1555 - val_loss: 52.4222\n",
            "Epoch 161/200\n",
            "34/34 [==============================] - 2s 61ms/step - loss: 37.7233 - val_loss: 49.8034\n",
            "Epoch 162/200\n",
            "34/34 [==============================] - 2s 63ms/step - loss: 34.4990 - val_loss: 62.5636\n",
            "Epoch 163/200\n",
            "34/34 [==============================] - 2s 62ms/step - loss: 35.0107 - val_loss: 72.1866\n",
            "Epoch 164/200\n",
            "34/34 [==============================] - 2s 61ms/step - loss: 33.6920 - val_loss: 63.2299\n",
            "Epoch 165/200\n",
            "34/34 [==============================] - 2s 60ms/step - loss: 32.3040 - val_loss: 49.7140\n",
            "Epoch 166/200\n",
            "34/34 [==============================] - 2s 61ms/step - loss: 35.7661 - val_loss: 58.8174\n",
            "Epoch 167/200\n",
            "34/34 [==============================] - 2s 61ms/step - loss: 35.3482 - val_loss: 54.5508\n",
            "Epoch 168/200\n",
            "34/34 [==============================] - 2s 61ms/step - loss: 36.9447 - val_loss: 61.3179\n",
            "Epoch 169/200\n",
            "34/34 [==============================] - 2s 61ms/step - loss: 34.0112 - val_loss: 50.2403\n",
            "Epoch 170/200\n",
            "34/34 [==============================] - 2s 61ms/step - loss: 36.0489 - val_loss: 50.1129\n",
            "Epoch 171/200\n",
            "34/34 [==============================] - 2s 60ms/step - loss: 34.4812 - val_loss: 54.4665\n",
            "Epoch 172/200\n",
            "34/34 [==============================] - 2s 61ms/step - loss: 37.4344 - val_loss: 64.1044\n",
            "Epoch 173/200\n",
            "34/34 [==============================] - 2s 61ms/step - loss: 38.0658 - val_loss: 62.0483\n",
            "Epoch 174/200\n",
            "34/34 [==============================] - 2s 62ms/step - loss: 38.3073 - val_loss: 58.3771\n",
            "Epoch 175/200\n",
            "34/34 [==============================] - 2s 61ms/step - loss: 34.9656 - val_loss: 48.3079\n",
            "Epoch 176/200\n",
            "34/34 [==============================] - 2s 61ms/step - loss: 35.3292 - val_loss: 51.6259\n",
            "Epoch 177/200\n",
            "34/34 [==============================] - 2s 61ms/step - loss: 35.2796 - val_loss: 56.5230\n",
            "Epoch 178/200\n",
            "34/34 [==============================] - 2s 61ms/step - loss: 35.0253 - val_loss: 51.0917\n",
            "Epoch 179/200\n",
            "34/34 [==============================] - 2s 61ms/step - loss: 35.9525 - val_loss: 53.7459\n",
            "Epoch 180/200\n",
            "34/34 [==============================] - 2s 61ms/step - loss: 34.4887 - val_loss: 65.4701\n",
            "Epoch 181/200\n",
            "34/34 [==============================] - 2s 61ms/step - loss: 34.6906 - val_loss: 54.4285\n",
            "Epoch 182/200\n",
            "34/34 [==============================] - 2s 61ms/step - loss: 35.3382 - val_loss: 51.5819\n",
            "Epoch 183/200\n",
            "34/34 [==============================] - 2s 62ms/step - loss: 32.2267 - val_loss: 61.8425\n",
            "Epoch 184/200\n",
            "34/34 [==============================] - 2s 61ms/step - loss: 31.4061 - val_loss: 59.2683\n",
            "Epoch 185/200\n",
            "34/34 [==============================] - 2s 61ms/step - loss: 33.9957 - val_loss: 49.5953\n",
            "Epoch 186/200\n",
            "34/34 [==============================] - 2s 62ms/step - loss: 36.2029 - val_loss: 55.1033\n",
            "Epoch 187/200\n",
            "34/34 [==============================] - 2s 61ms/step - loss: 31.9854 - val_loss: 74.3202\n",
            "Epoch 188/200\n",
            "34/34 [==============================] - 2s 62ms/step - loss: 32.6580 - val_loss: 52.1531\n",
            "Epoch 189/200\n",
            "34/34 [==============================] - 2s 61ms/step - loss: 32.0507 - val_loss: 52.1169\n",
            "Epoch 190/200\n",
            "34/34 [==============================] - 2s 61ms/step - loss: 33.8210 - val_loss: 62.2193\n",
            "Epoch 191/200\n",
            "34/34 [==============================] - 2s 61ms/step - loss: 37.0659 - val_loss: 63.9720\n",
            "Epoch 192/200\n",
            "34/34 [==============================] - 2s 62ms/step - loss: 36.1976 - val_loss: 50.4481\n",
            "Epoch 193/200\n",
            "34/34 [==============================] - 2s 62ms/step - loss: 35.4903 - val_loss: 59.9775\n",
            "Epoch 194/200\n",
            "34/34 [==============================] - 2s 62ms/step - loss: 40.9512 - val_loss: 56.9652\n",
            "Epoch 195/200\n",
            "34/34 [==============================] - 2s 62ms/step - loss: 35.5672 - val_loss: 70.6869\n",
            "Epoch 196/200\n",
            "34/34 [==============================] - 2s 61ms/step - loss: 37.9015 - val_loss: 62.2034\n",
            "Epoch 197/200\n",
            "34/34 [==============================] - 2s 62ms/step - loss: 37.7156 - val_loss: 47.9707\n",
            "Epoch 198/200\n",
            "34/34 [==============================] - 2s 61ms/step - loss: 36.1866 - val_loss: 50.3649\n",
            "Epoch 199/200\n",
            "34/34 [==============================] - 2s 62ms/step - loss: 37.9697 - val_loss: 91.0719\n",
            "Epoch 200/200\n",
            "34/34 [==============================] - 2s 62ms/step - loss: 35.2758 - val_loss: 69.1031\n"
          ]
        }
      ]
    },
    {
      "cell_type": "code",
      "metadata": {
        "colab": {
          "base_uri": "https://localhost:8080/",
          "height": 621
        },
        "id": "_c1Q35p0_vws",
        "outputId": "a4b2bda8-0b47-4a28-8ef0-3d174ac526e7"
      },
      "source": [
        "import matplotlib.pyplot as plt\n",
        "plt.figure(figsize=(16,10)) \n",
        "epochs = range(1, len(cnn_hist.history['loss']) + 1)\n",
        "plt.plot(epochs, cnn_hist.history['loss'], label='Training Loss') \n",
        "plt.plot(epochs, cnn_hist.history['val_loss'], label='Validation Loss') \n",
        "\n",
        "plt.title('Loss of Regression model')\n",
        "plt.xlabel('Epochs')\n",
        "plt.ylabel('Loss')\n",
        "plt.legend()\n",
        "plt.show()"
      ],
      "execution_count": 12,
      "outputs": [
        {
          "output_type": "display_data",
          "data": {
            "image/png": "[encoded data removed]",
            "text/plain": [
              "<Figure size 1152x720 with 1 Axes>"
            ]
          },
          "metadata": {
            "needs_background": "light"
          }
        }
      ]
    },
    {
      "cell_type": "code",
      "metadata": {
        "id": "CZGoNXpcxJGN",
        "colab": {
          "base_uri": "https://localhost:8080/"
        },
        "outputId": "c83489fb-8587-4979-a740-1eb27d76b688"
      },
      "source": [
        "# make predictions on the testing data\n",
        "print(\"[INFO] predicting house prices...\")\n",
        "preds = model.predict(testImagesX)\n",
        "# compute the difference between the *predicted* house prices and the\n",
        "# *actual* house prices, then compute the percentage difference and\n",
        "# the absolute percentage difference\n",
        "diff = preds.flatten() - testY\n",
        "percentDiff = (diff / testY) * 100\n",
        "absPercentDiff = np.abs(percentDiff)\n",
        "# compute the mean and standard deviation of the absolute percentage\n",
        "# difference\n",
        "mean = np.mean(absPercentDiff)\n",
        "std = np.std(absPercentDiff)\n",
        "# finally, show some statistics on our model\n",
        "locale.setlocale(locale.LC_ALL, \"en_US.UTF-8\")\n",
        "print(\"[INFO] avg. house price: {}, std house price: {}\".format(\n",
        "\tlocale.currency(df[\"price\"].mean(), grouping=True),\n",
        "\tlocale.currency(df[\"price\"].std(), grouping=True)))\n",
        "print(\"[INFO] mean: {:.2f}%, std: {:.2f}%\".format(mean, std))"
      ],
      "execution_count": 13,
      "outputs": [
        {
          "output_type": "stream",
          "name": "stdout",
          "text": [
            "[INFO] predicting house prices...\n",
            "[INFO] avg. house price: $533,388.27, std house price: $493,403.08\n",
            "[INFO] mean: 69.10%, std: 115.79%\n"
          ]
        }
      ]
    },
    {
      "cell_type": "code",
      "metadata": {
        "id": "TmNl5HdwxJDf"
      },
      "source": [
        ""
      ],
      "execution_count": null,
      "outputs": []
    },
    {
      "cell_type": "code",
      "metadata": {
        "id": "66k6uPeFxJAi"
      },
      "source": [
        ""
      ],
      "execution_count": null,
      "outputs": []
    },
    {
      "cell_type": "code",
      "metadata": {
        "id": "eD9r6A8gxI9g"
      },
      "source": [
        ""
      ],
      "execution_count": null,
      "outputs": []
    },
    {
      "cell_type": "code",
      "metadata": {
        "id": "obPOMM4NxI6k"
      },
      "source": [
        ""
      ],
      "execution_count": null,
      "outputs": []
    }
  ]
}
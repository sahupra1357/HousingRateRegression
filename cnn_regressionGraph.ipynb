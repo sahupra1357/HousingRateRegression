{
  "nbformat": 4,
  "nbformat_minor": 0,
  "metadata": {
    "colab": {
      "name": "cnn_regressionGraph.ipynb",
      "provenance": [],
      "authorship_tag": "ABX9TyO31pO5Qto1/v7g2VWr0/cD",
      "include_colab_link": true
    },
    "kernelspec": {
      "name": "python3",
      "display_name": "Python 3"
    },
    "language_info": {
      "name": "python"
    }
  },
  "cells": [
    {
      "cell_type": "markdown",
      "metadata": {
        "id": "view-in-github",
        "colab_type": "text"
      },
      "source": [
        "<a href=\"https://colab.research.google.com/github/sahupra1357/HousingRateRegression/blob/main/cnn_regressionGraph.ipynb\" target=\"_parent\"><img src=\"https://colab.research.google.com/assets/colab-badge.svg\" alt=\"Open In Colab\"/></a>"
      ]
    },
    {
      "cell_type": "code",
      "metadata": {
        "colab": {
          "base_uri": "https://localhost:8080/"
        },
        "id": "yNT_cYGlxQMU",
        "outputId": "2c71f131-838b-4cd4-fb7e-d21845b2535a"
      },
      "source": [
        "!git clone https://github.com/emanhamed/Houses-dataset.git"
      ],
      "execution_count": null,
      "outputs": [
        {
          "output_type": "stream",
          "name": "stdout",
          "text": [
            "Cloning into 'Houses-dataset'...\n",
            "remote: Enumerating objects: 2166, done.\u001b[K\n",
            "remote: Counting objects: 100% (1/1), done.\u001b[K\n",
            "remote: Total 2166 (delta 0), reused 0 (delta 0), pack-reused 2165\u001b[K\n",
            "Receiving objects: 100% (2166/2166), 176.26 MiB | 24.08 MiB/s, done.\n",
            "Resolving deltas: 100% (20/20), done.\n"
          ]
        }
      ]
    },
    {
      "cell_type": "code",
      "metadata": {
        "colab": {
          "base_uri": "https://localhost:8080/"
        },
        "id": "Rw5TTSuPxQI5",
        "outputId": "2b1550ba-54b0-413a-cc18-c6c15f265a75"
      },
      "source": [
        "!pip install requests"
      ],
      "execution_count": null,
      "outputs": [
        {
          "output_type": "stream",
          "name": "stdout",
          "text": [
            "Requirement already satisfied: requests in /usr/local/lib/python3.7/dist-packages (2.23.0)\n",
            "Requirement already satisfied: certifi>=2017.4.17 in /usr/local/lib/python3.7/dist-packages (from requests) (2021.5.30)\n",
            "Requirement already satisfied: chardet<4,>=3.0.2 in /usr/local/lib/python3.7/dist-packages (from requests) (3.0.4)\n",
            "Requirement already satisfied: idna<3,>=2.5 in /usr/local/lib/python3.7/dist-packages (from requests) (2.10)\n",
            "Requirement already satisfied: urllib3!=1.25.0,!=1.25.1,<1.26,>=1.21.1 in /usr/local/lib/python3.7/dist-packages (from requests) (1.24.3)\n"
          ]
        }
      ]
    },
    {
      "cell_type": "code",
      "metadata": {
        "id": "IqA66QJXxQFp"
      },
      "source": [
        "import requests\n",
        "# Save datagenerators as file to colab working directory\n",
        "# If you are using GitHub, make sure you get the \"Raw\" version of the code\n",
        "url = 'https://raw.githubusercontent.com/sahupra1357/HousingRateRegression/main/pyimagesearch/datasets.py'\n",
        "r = requests.get(url)\n",
        "\n",
        "# make sure your filename is the same as how you want to import \n",
        "with open('datasets.py', 'w') as f:\n",
        "    f.write(r.text)\n",
        "\n",
        "url = 'https://raw.githubusercontent.com/sahupra1357/HousingRateRegression/main/pyimagesearch/models.py'\n",
        "r = requests.get(url)\n",
        "\n",
        "# make sure your filename is the same as how you want to import \n",
        "with open('models.py', 'w') as f:\n",
        "    f.write(r.text)\n",
        "\n",
        "import datasets\n",
        "import models"
      ],
      "execution_count": null,
      "outputs": []
    },
    {
      "cell_type": "code",
      "metadata": {
        "id": "-KBieCoYxJU7"
      },
      "source": [
        "# import the necessary packages\n",
        "from tensorflow.keras.optimizers import Adam\n",
        "from sklearn.model_selection import train_test_split\n",
        "import numpy as np\n",
        "import argparse\n",
        "import locale\n",
        "import os"
      ],
      "execution_count": null,
      "outputs": []
    },
    {
      "cell_type": "code",
      "metadata": {
        "colab": {
          "base_uri": "https://localhost:8080/"
        },
        "id": "rdXMdaWoxJR0",
        "outputId": "47a5db4f-6673-431c-fe23-4754bad980a8"
      },
      "source": [
        "# construct the path to the input .txt file that contains information\n",
        "# on each house in the dataset and then load the dataset\n",
        "print(\"[INFO] loading house attributes...\")\n",
        "inputPath = os.path.sep.join([\"Houses-dataset/Houses Dataset\", \"HousesInfo.txt\"])\n",
        "df = datasets.load_house_attributes(inputPath)\n"
      ],
      "execution_count": null,
      "outputs": [
        {
          "output_type": "stream",
          "name": "stdout",
          "text": [
            "[INFO] loading house attributes...\n"
          ]
        }
      ]
    },
    {
      "cell_type": "code",
      "metadata": {
        "colab": {
          "base_uri": "https://localhost:8080/"
        },
        "id": "r4JxPJIlxJOx",
        "outputId": "beead2d3-b96e-4890-e579-7334e7d46398"
      },
      "source": [
        "# load the house images and then scale the pixel intensities to the\n",
        "# range [0, 1]\n",
        "print(\"[INFO] loading house images...\")\n",
        "images = datasets.load_house_images(df, \"Houses-dataset/Houses Dataset\")\n",
        "images = images / 255.0"
      ],
      "execution_count": null,
      "outputs": [
        {
          "output_type": "stream",
          "name": "stdout",
          "text": [
            "[INFO] loading house images...\n"
          ]
        }
      ]
    },
    {
      "cell_type": "code",
      "metadata": {
        "id": "VyQ2EV82xJL6"
      },
      "source": [
        "# partition the data into training and testing splits using 75% of\n",
        "# the data for training and the remaining 25% for testing\n",
        "split = train_test_split(df, images, test_size=0.25, random_state=42)\n",
        "(trainAttrX, testAttrX, trainImagesX, testImagesX) = split"
      ],
      "execution_count": null,
      "outputs": []
    },
    {
      "cell_type": "code",
      "metadata": {
        "id": "YSMLCit6xJJF",
        "colab": {
          "base_uri": "https://localhost:8080/"
        },
        "outputId": "b31b9684-476d-449a-9822-3dea32e8074d"
      },
      "source": [
        "# find the largest house price in the training set and use it to\n",
        "# scale our house prices to the range [0, 1] (will lead to better\n",
        "# training and convergence)\n",
        "maxPrice = trainAttrX[\"price\"].max()\n",
        "trainY = trainAttrX[\"price\"] / maxPrice\n",
        "testY = testAttrX[\"price\"] / maxPrice\n",
        "# create our Convolutional Neural Network and then compile the model\n",
        "# using mean absolute percentage error as our loss, implying that we\n",
        "# seek to minimize the absolute percentage difference between our\n",
        "# price *predictions* and the *actual prices*\n",
        "model = models.create_cnn(64, 64, 3, regress=True)\n",
        "opt = Adam(learning_rate=1e-3, decay=1e-3 / 200)\n",
        "model.compile(loss=\"mean_absolute_percentage_error\", optimizer=opt)\n",
        "# train the model\n",
        "print(\"[INFO] training model...\")\n",
        "cnn_hist = model.fit(x=trainImagesX, y=trainY, \n",
        "    validation_data=(testImagesX, testY),\n",
        "    epochs=200, batch_size=8)"
      ],
      "execution_count": null,
      "outputs": [
        {
          "output_type": "stream",
          "name": "stderr",
          "text": [
            "/usr/local/lib/python3.7/dist-packages/keras/optimizer_v2/optimizer_v2.py:356: UserWarning: The `lr` argument is deprecated, use `learning_rate` instead.\n",
            "  \"The `lr` argument is deprecated, use `learning_rate` instead.\")\n"
          ]
        },
        {
          "output_type": "stream",
          "name": "stdout",
          "text": [
            "[INFO] training model...\n",
            "Epoch 1/200\n",
            "34/34 [==============================] - 4s 65ms/step - loss: 630.9975 - val_loss: 203.6262\n",
            "Epoch 2/200\n",
            "34/34 [==============================] - 2s 54ms/step - loss: 427.9910 - val_loss: 316.8934\n",
            "Epoch 3/200\n",
            "34/34 [==============================] - 2s 55ms/step - loss: 272.3477 - val_loss: 115.6811\n",
            "Epoch 4/200\n",
            "34/34 [==============================] - 2s 54ms/step - loss: 257.2148 - val_loss: 630.4659\n",
            "Epoch 5/200\n",
            "34/34 [==============================] - 2s 54ms/step - loss: 166.0401 - val_loss: 1001.8469\n",
            "Epoch 6/200\n",
            "34/34 [==============================] - 2s 56ms/step - loss: 148.4325 - val_loss: 1155.2451\n",
            "Epoch 7/200\n",
            "34/34 [==============================] - 2s 55ms/step - loss: 152.7984 - val_loss: 1333.8124\n",
            "Epoch 8/200\n",
            "34/34 [==============================] - 2s 54ms/step - loss: 116.7083 - val_loss: 1142.8527\n",
            "Epoch 9/200\n",
            "34/34 [==============================] - 2s 56ms/step - loss: 100.7070 - val_loss: 929.9512\n",
            "Epoch 10/200\n",
            "34/34 [==============================] - 2s 58ms/step - loss: 116.2815 - val_loss: 658.7192\n",
            "Epoch 11/200\n",
            "34/34 [==============================] - 2s 56ms/step - loss: 99.4660 - val_loss: 383.3692\n",
            "Epoch 12/200\n",
            "34/34 [==============================] - 2s 57ms/step - loss: 103.0358 - val_loss: 226.3466\n",
            "Epoch 13/200\n",
            "34/34 [==============================] - 2s 58ms/step - loss: 87.7215 - val_loss: 223.2460\n",
            "Epoch 14/200\n",
            "34/34 [==============================] - 2s 58ms/step - loss: 75.3996 - val_loss: 200.1051\n",
            "Epoch 15/200\n",
            "34/34 [==============================] - 2s 55ms/step - loss: 76.3483 - val_loss: 108.5655\n",
            "Epoch 16/200\n",
            "34/34 [==============================] - 2s 56ms/step - loss: 76.1918 - val_loss: 74.1392\n",
            "Epoch 17/200\n",
            "34/34 [==============================] - 2s 55ms/step - loss: 72.9072 - val_loss: 88.2123\n",
            "Epoch 18/200\n",
            "34/34 [==============================] - 2s 56ms/step - loss: 72.0777 - val_loss: 76.8194\n",
            "Epoch 19/200\n",
            "34/34 [==============================] - 2s 56ms/step - loss: 70.4326 - val_loss: 62.3171\n",
            "Epoch 20/200\n",
            "34/34 [==============================] - 2s 55ms/step - loss: 75.6458 - val_loss: 60.3901\n",
            "Epoch 21/200\n",
            "34/34 [==============================] - 2s 56ms/step - loss: 65.6568 - val_loss: 60.9950\n",
            "Epoch 22/200\n",
            "34/34 [==============================] - 2s 57ms/step - loss: 58.6248 - val_loss: 60.3302\n",
            "Epoch 23/200\n",
            "34/34 [==============================] - 2s 57ms/step - loss: 57.8442 - val_loss: 58.6920\n",
            "Epoch 24/200\n",
            "34/34 [==============================] - 2s 57ms/step - loss: 60.6831 - val_loss: 58.2646\n",
            "Epoch 25/200\n",
            "34/34 [==============================] - 2s 56ms/step - loss: 60.9259 - val_loss: 59.5733\n",
            "Epoch 26/200\n",
            "34/34 [==============================] - 2s 55ms/step - loss: 63.8374 - val_loss: 56.3274\n",
            "Epoch 27/200\n",
            "34/34 [==============================] - 2s 57ms/step - loss: 60.8558 - val_loss: 58.8148\n",
            "Epoch 28/200\n",
            "34/34 [==============================] - 2s 57ms/step - loss: 59.5889 - val_loss: 59.1915\n",
            "Epoch 29/200\n",
            "34/34 [==============================] - 2s 55ms/step - loss: 57.7769 - val_loss: 58.7648\n",
            "Epoch 30/200\n",
            "34/34 [==============================] - 2s 56ms/step - loss: 57.1482 - val_loss: 57.8993\n",
            "Epoch 31/200\n",
            "34/34 [==============================] - 2s 56ms/step - loss: 56.1503 - val_loss: 58.1433\n",
            "Epoch 32/200\n",
            "34/34 [==============================] - 2s 54ms/step - loss: 56.4423 - val_loss: 59.5631\n",
            "Epoch 33/200\n",
            "34/34 [==============================] - 2s 55ms/step - loss: 55.5272 - val_loss: 57.3908\n",
            "Epoch 34/200\n",
            "34/34 [==============================] - 2s 54ms/step - loss: 54.6739 - val_loss: 58.3334\n",
            "Epoch 35/200\n",
            "34/34 [==============================] - 2s 56ms/step - loss: 58.1200 - val_loss: 57.9981\n",
            "Epoch 36/200\n",
            "34/34 [==============================] - 2s 54ms/step - loss: 55.1800 - val_loss: 58.5346\n",
            "Epoch 37/200\n",
            "34/34 [==============================] - 2s 55ms/step - loss: 56.1055 - val_loss: 58.3605\n",
            "Epoch 38/200\n",
            "34/34 [==============================] - 2s 55ms/step - loss: 61.6954 - val_loss: 64.7611\n",
            "Epoch 39/200\n",
            "34/34 [==============================] - 2s 55ms/step - loss: 53.8982 - val_loss: 96.9317\n",
            "Epoch 40/200\n",
            "34/34 [==============================] - 2s 56ms/step - loss: 62.6218 - val_loss: 78.4577\n",
            "Epoch 41/200\n",
            "34/34 [==============================] - 2s 58ms/step - loss: 57.0959 - val_loss: 85.2943\n",
            "Epoch 42/200\n",
            "34/34 [==============================] - 2s 56ms/step - loss: 54.1953 - val_loss: 59.4456\n",
            "Epoch 43/200\n",
            "34/34 [==============================] - 2s 56ms/step - loss: 59.2284 - val_loss: 59.4929\n",
            "Epoch 44/200\n",
            "34/34 [==============================] - 2s 56ms/step - loss: 50.3804 - val_loss: 59.1711\n",
            "Epoch 45/200\n",
            "34/34 [==============================] - 2s 57ms/step - loss: 52.4659 - val_loss: 61.2767\n",
            "Epoch 46/200\n",
            "34/34 [==============================] - 2s 57ms/step - loss: 50.2673 - val_loss: 63.9534\n",
            "Epoch 47/200\n",
            "34/34 [==============================] - 2s 56ms/step - loss: 48.5206 - val_loss: 66.4079\n",
            "Epoch 48/200\n",
            "34/34 [==============================] - 2s 56ms/step - loss: 53.9612 - val_loss: 65.4698\n",
            "Epoch 49/200\n",
            "34/34 [==============================] - 2s 55ms/step - loss: 53.0648 - val_loss: 66.2100\n",
            "Epoch 50/200\n",
            "34/34 [==============================] - 2s 55ms/step - loss: 51.4653 - val_loss: 62.9365\n",
            "Epoch 51/200\n",
            "34/34 [==============================] - 2s 57ms/step - loss: 54.3140 - val_loss: 78.4609\n",
            "Epoch 52/200\n",
            "34/34 [==============================] - 2s 56ms/step - loss: 54.9709 - val_loss: 64.4054\n",
            "Epoch 53/200\n",
            "34/34 [==============================] - 2s 56ms/step - loss: 49.5004 - val_loss: 65.0366\n",
            "Epoch 54/200\n",
            "34/34 [==============================] - 2s 57ms/step - loss: 51.7772 - val_loss: 61.4609\n",
            "Epoch 55/200\n",
            "34/34 [==============================] - 2s 59ms/step - loss: 53.3628 - val_loss: 61.1841\n",
            "Epoch 56/200\n",
            "34/34 [==============================] - 2s 60ms/step - loss: 56.6179 - val_loss: 65.1716\n",
            "Epoch 57/200\n",
            "34/34 [==============================] - 2s 57ms/step - loss: 51.0748 - val_loss: 68.4016\n",
            "Epoch 58/200\n",
            "34/34 [==============================] - 2s 54ms/step - loss: 49.9927 - val_loss: 68.8532\n",
            "Epoch 59/200\n",
            "34/34 [==============================] - 2s 56ms/step - loss: 47.5673 - val_loss: 62.0704\n",
            "Epoch 60/200\n",
            "34/34 [==============================] - 2s 56ms/step - loss: 50.1771 - val_loss: 62.1164\n",
            "Epoch 61/200\n",
            "34/34 [==============================] - 2s 58ms/step - loss: 46.3157 - val_loss: 72.6491\n",
            "Epoch 62/200\n",
            "34/34 [==============================] - 2s 57ms/step - loss: 48.3306 - val_loss: 83.6859\n",
            "Epoch 63/200\n",
            "34/34 [==============================] - 2s 60ms/step - loss: 50.7261 - val_loss: 58.2624\n",
            "Epoch 64/200\n",
            "34/34 [==============================] - 2s 56ms/step - loss: 46.5438 - val_loss: 59.3798\n",
            "Epoch 65/200\n",
            "34/34 [==============================] - 2s 57ms/step - loss: 50.4240 - val_loss: 62.6538\n",
            "Epoch 66/200\n",
            "34/34 [==============================] - 2s 57ms/step - loss: 52.5548 - val_loss: 60.9879\n",
            "Epoch 67/200\n",
            "34/34 [==============================] - 2s 57ms/step - loss: 48.9338 - val_loss: 61.2180\n",
            "Epoch 68/200\n",
            "34/34 [==============================] - 2s 58ms/step - loss: 48.6272 - val_loss: 59.5004\n",
            "Epoch 69/200\n",
            "34/34 [==============================] - 2s 58ms/step - loss: 46.5620 - val_loss: 58.0064\n",
            "Epoch 70/200\n",
            "34/34 [==============================] - 2s 58ms/step - loss: 48.1170 - val_loss: 72.7071\n",
            "Epoch 71/200\n",
            "34/34 [==============================] - 2s 58ms/step - loss: 51.3372 - val_loss: 75.4724\n",
            "Epoch 72/200\n",
            "34/34 [==============================] - 2s 59ms/step - loss: 51.7459 - val_loss: 66.6155\n",
            "Epoch 73/200\n",
            "34/34 [==============================] - 2s 59ms/step - loss: 49.8349 - val_loss: 63.3687\n",
            "Epoch 74/200\n",
            "34/34 [==============================] - 2s 57ms/step - loss: 48.5425 - val_loss: 71.5134\n",
            "Epoch 75/200\n",
            "34/34 [==============================] - 2s 59ms/step - loss: 52.7048 - val_loss: 69.5322\n",
            "Epoch 76/200\n",
            "34/34 [==============================] - 2s 58ms/step - loss: 51.5893 - val_loss: 65.4280\n",
            "Epoch 77/200\n",
            "34/34 [==============================] - 2s 57ms/step - loss: 48.7062 - val_loss: 59.9200\n",
            "Epoch 78/200\n",
            "34/34 [==============================] - 2s 58ms/step - loss: 47.4487 - val_loss: 64.1607\n",
            "Epoch 79/200\n",
            "34/34 [==============================] - 2s 58ms/step - loss: 44.8242 - val_loss: 68.1446\n",
            "Epoch 80/200\n",
            "34/34 [==============================] - 2s 58ms/step - loss: 52.9994 - val_loss: 61.5638\n",
            "Epoch 81/200\n",
            "34/34 [==============================] - 2s 57ms/step - loss: 47.7593 - val_loss: 59.3467\n",
            "Epoch 82/200\n",
            "34/34 [==============================] - 2s 58ms/step - loss: 49.5154 - val_loss: 68.0515\n",
            "Epoch 83/200\n",
            "34/34 [==============================] - 2s 59ms/step - loss: 51.7354 - val_loss: 60.5889\n",
            "Epoch 84/200\n",
            "34/34 [==============================] - 2s 58ms/step - loss: 47.3349 - val_loss: 66.1896\n",
            "Epoch 85/200\n",
            "34/34 [==============================] - 2s 58ms/step - loss: 48.2602 - val_loss: 68.8987\n",
            "Epoch 86/200\n",
            "34/34 [==============================] - 2s 58ms/step - loss: 46.1537 - val_loss: 60.1500\n",
            "Epoch 87/200\n",
            "34/34 [==============================] - 2s 58ms/step - loss: 44.6182 - val_loss: 63.2779\n",
            "Epoch 88/200\n",
            "34/34 [==============================] - 2s 58ms/step - loss: 43.8671 - val_loss: 61.7465\n",
            "Epoch 89/200\n",
            "34/34 [==============================] - 2s 58ms/step - loss: 45.5023 - val_loss: 57.1876\n",
            "Epoch 90/200\n",
            "34/34 [==============================] - 2s 57ms/step - loss: 48.1169 - val_loss: 63.0020\n",
            "Epoch 91/200\n",
            "34/34 [==============================] - 2s 59ms/step - loss: 50.7191 - val_loss: 73.4401\n",
            "Epoch 92/200\n",
            "34/34 [==============================] - 2s 59ms/step - loss: 49.3596 - val_loss: 64.4578\n",
            "Epoch 93/200\n",
            "34/34 [==============================] - 2s 58ms/step - loss: 47.9588 - val_loss: 61.7294\n",
            "Epoch 94/200\n",
            "34/34 [==============================] - 2s 58ms/step - loss: 45.8451 - val_loss: 64.6931\n",
            "Epoch 95/200\n",
            "34/34 [==============================] - 2s 58ms/step - loss: 43.7713 - val_loss: 101.6035\n",
            "Epoch 96/200\n",
            "34/34 [==============================] - 2s 58ms/step - loss: 48.3340 - val_loss: 78.1260\n",
            "Epoch 97/200\n",
            "34/34 [==============================] - 2s 57ms/step - loss: 47.2966 - val_loss: 72.0775\n",
            "Epoch 98/200\n",
            "34/34 [==============================] - 2s 58ms/step - loss: 43.1136 - val_loss: 73.2265\n",
            "Epoch 99/200\n",
            "34/34 [==============================] - 2s 59ms/step - loss: 47.5073 - val_loss: 80.7256\n",
            "Epoch 100/200\n",
            "34/34 [==============================] - 2s 58ms/step - loss: 49.4541 - val_loss: 61.3384\n",
            "Epoch 101/200\n",
            "34/34 [==============================] - 2s 59ms/step - loss: 49.4924 - val_loss: 57.4804\n",
            "Epoch 102/200\n",
            "34/34 [==============================] - 2s 59ms/step - loss: 42.6101 - val_loss: 58.9350\n",
            "Epoch 103/200\n",
            "34/34 [==============================] - 2s 59ms/step - loss: 50.0425 - val_loss: 65.7142\n",
            "Epoch 104/200\n",
            "34/34 [==============================] - 2s 58ms/step - loss: 50.6550 - val_loss: 124.3583\n",
            "Epoch 105/200\n",
            "34/34 [==============================] - 2s 58ms/step - loss: 51.5311 - val_loss: 69.4856\n",
            "Epoch 106/200\n",
            "34/34 [==============================] - 2s 59ms/step - loss: 48.5024 - val_loss: 64.3955\n",
            "Epoch 107/200\n",
            "34/34 [==============================] - 2s 59ms/step - loss: 44.3240 - val_loss: 67.3620\n",
            "Epoch 108/200\n",
            "34/34 [==============================] - 2s 58ms/step - loss: 46.5241 - val_loss: 75.5099\n",
            "Epoch 109/200\n",
            "34/34 [==============================] - 2s 59ms/step - loss: 50.5075 - val_loss: 122.5680\n",
            "Epoch 110/200\n",
            "34/34 [==============================] - 2s 59ms/step - loss: 42.3810 - val_loss: 119.7333\n",
            "Epoch 111/200\n",
            "34/34 [==============================] - 2s 59ms/step - loss: 43.9016 - val_loss: 103.1553\n",
            "Epoch 112/200\n",
            "34/34 [==============================] - 2s 58ms/step - loss: 45.1328 - val_loss: 61.5172\n",
            "Epoch 113/200\n",
            "34/34 [==============================] - 2s 59ms/step - loss: 42.2003 - val_loss: 59.3231\n",
            "Epoch 114/200\n",
            "34/34 [==============================] - 2s 59ms/step - loss: 46.7623 - val_loss: 71.6408\n",
            "Epoch 115/200\n",
            "34/34 [==============================] - 2s 58ms/step - loss: 43.5342 - val_loss: 65.3881\n",
            "Epoch 116/200\n",
            "34/34 [==============================] - 2s 58ms/step - loss: 43.8911 - val_loss: 91.9192\n",
            "Epoch 117/200\n",
            "34/34 [==============================] - 2s 59ms/step - loss: 43.7491 - val_loss: 73.3943\n",
            "Epoch 118/200\n",
            "34/34 [==============================] - 2s 62ms/step - loss: 46.3636 - val_loss: 59.8181\n",
            "Epoch 119/200\n",
            "34/34 [==============================] - 2s 64ms/step - loss: 43.2174 - val_loss: 58.1578\n",
            "Epoch 120/200\n",
            "34/34 [==============================] - 2s 62ms/step - loss: 41.2827 - val_loss: 73.9918\n",
            "Epoch 121/200\n",
            "34/34 [==============================] - 2s 59ms/step - loss: 43.9749 - val_loss: 80.6763\n",
            "Epoch 122/200\n",
            "34/34 [==============================] - 2s 59ms/step - loss: 40.9259 - val_loss: 59.2402\n",
            "Epoch 123/200\n",
            "34/34 [==============================] - 2s 59ms/step - loss: 44.1231 - val_loss: 64.1237\n",
            "Epoch 124/200\n",
            "34/34 [==============================] - 2s 60ms/step - loss: 39.6599 - val_loss: 64.5288\n",
            "Epoch 125/200\n",
            "34/34 [==============================] - 2s 59ms/step - loss: 39.1442 - val_loss: 55.2297\n",
            "Epoch 126/200\n",
            "34/34 [==============================] - 2s 58ms/step - loss: 39.4990 - val_loss: 81.3633\n",
            "Epoch 127/200\n",
            "34/34 [==============================] - 2s 59ms/step - loss: 46.0994 - val_loss: 85.5552\n",
            "Epoch 128/200\n",
            "34/34 [==============================] - 2s 60ms/step - loss: 50.5652 - val_loss: 85.7702\n",
            "Epoch 129/200\n",
            "34/34 [==============================] - 2s 60ms/step - loss: 44.9061 - val_loss: 62.3080\n",
            "Epoch 130/200\n",
            "34/34 [==============================] - 2s 60ms/step - loss: 42.4757 - val_loss: 58.2878\n",
            "Epoch 131/200\n",
            "34/34 [==============================] - 2s 59ms/step - loss: 41.3650 - val_loss: 60.6374\n",
            "Epoch 132/200\n",
            "34/34 [==============================] - 2s 58ms/step - loss: 45.7907 - val_loss: 59.4976\n",
            "Epoch 133/200\n",
            "34/34 [==============================] - 2s 60ms/step - loss: 41.4411 - val_loss: 67.0340\n",
            "Epoch 134/200\n",
            "34/34 [==============================] - 2s 59ms/step - loss: 39.6188 - val_loss: 72.1783\n",
            "Epoch 135/200\n",
            "34/34 [==============================] - 2s 60ms/step - loss: 42.7355 - val_loss: 60.5410\n",
            "Epoch 136/200\n",
            "34/34 [==============================] - 2s 60ms/step - loss: 36.8966 - val_loss: 63.6131\n",
            "Epoch 137/200\n",
            "34/34 [==============================] - 2s 60ms/step - loss: 39.0929 - val_loss: 64.0450\n",
            "Epoch 138/200\n",
            "34/34 [==============================] - 2s 61ms/step - loss: 42.8819 - val_loss: 63.7231\n",
            "Epoch 139/200\n",
            "34/34 [==============================] - 2s 60ms/step - loss: 42.0179 - val_loss: 69.0832\n",
            "Epoch 140/200\n",
            "34/34 [==============================] - 2s 60ms/step - loss: 45.0012 - val_loss: 72.5961\n",
            "Epoch 141/200\n",
            "34/34 [==============================] - 2s 59ms/step - loss: 40.9942 - val_loss: 56.3339\n",
            "Epoch 142/200\n",
            "34/34 [==============================] - 2s 59ms/step - loss: 45.4354 - val_loss: 61.8436\n",
            "Epoch 143/200\n",
            "34/34 [==============================] - 2s 59ms/step - loss: 37.9498 - val_loss: 65.2445\n",
            "Epoch 144/200\n",
            "34/34 [==============================] - 2s 60ms/step - loss: 47.7427 - val_loss: 69.9498\n",
            "Epoch 145/200\n",
            "34/34 [==============================] - 2s 60ms/step - loss: 42.7553 - val_loss: 65.7845\n",
            "Epoch 146/200\n",
            "34/34 [==============================] - 2s 58ms/step - loss: 40.4540 - val_loss: 61.6130\n",
            "Epoch 147/200\n",
            "34/34 [==============================] - 2s 59ms/step - loss: 40.1426 - val_loss: 65.5880\n",
            "Epoch 148/200\n",
            "34/34 [==============================] - 2s 60ms/step - loss: 45.9242 - val_loss: 64.2995\n",
            "Epoch 149/200\n",
            "34/34 [==============================] - 2s 59ms/step - loss: 40.8447 - val_loss: 61.1505\n",
            "Epoch 150/200\n",
            "34/34 [==============================] - 2s 60ms/step - loss: 38.9339 - val_loss: 56.0508\n",
            "Epoch 151/200\n",
            "34/34 [==============================] - 2s 60ms/step - loss: 38.7136 - val_loss: 55.6654\n",
            "Epoch 152/200\n",
            "34/34 [==============================] - 2s 60ms/step - loss: 39.7203 - val_loss: 56.3595\n",
            "Epoch 153/200\n",
            "34/34 [==============================] - 2s 60ms/step - loss: 40.1132 - val_loss: 52.5564\n",
            "Epoch 154/200\n",
            "34/34 [==============================] - 2s 60ms/step - loss: 37.4672 - val_loss: 57.6159\n",
            "Epoch 155/200\n",
            "34/34 [==============================] - 2s 61ms/step - loss: 38.8828 - val_loss: 62.6777\n",
            "Epoch 156/200\n",
            "34/34 [==============================] - 2s 59ms/step - loss: 40.2273 - val_loss: 65.6419\n",
            "Epoch 157/200\n",
            "34/34 [==============================] - 2s 59ms/step - loss: 48.5782 - val_loss: 62.6116\n",
            "Epoch 158/200\n",
            "34/34 [==============================] - 2s 60ms/step - loss: 40.4919 - val_loss: 63.4363\n",
            "Epoch 159/200\n",
            "34/34 [==============================] - 2s 59ms/step - loss: 38.3584 - val_loss: 57.2134\n",
            "Epoch 160/200\n",
            "34/34 [==============================] - 2s 59ms/step - loss: 41.8462 - val_loss: 54.9038\n",
            "Epoch 161/200\n",
            "34/34 [==============================] - 2s 58ms/step - loss: 38.1402 - val_loss: 58.6818\n",
            "Epoch 162/200\n",
            "34/34 [==============================] - 2s 59ms/step - loss: 39.2530 - val_loss: 61.8366\n",
            "Epoch 163/200\n",
            "34/34 [==============================] - 2s 59ms/step - loss: 41.0013 - val_loss: 64.0887\n",
            "Epoch 164/200\n",
            "34/34 [==============================] - 2s 59ms/step - loss: 40.6981 - val_loss: 65.7458\n",
            "Epoch 165/200\n",
            "34/34 [==============================] - 2s 60ms/step - loss: 38.6958 - val_loss: 67.4296\n",
            "Epoch 166/200\n",
            "34/34 [==============================] - 2s 59ms/step - loss: 39.5122 - val_loss: 63.5668\n",
            "Epoch 167/200\n",
            "34/34 [==============================] - 2s 58ms/step - loss: 42.5751 - val_loss: 63.6612\n",
            "Epoch 168/200\n",
            "34/34 [==============================] - 2s 59ms/step - loss: 41.7920 - val_loss: 64.3666\n",
            "Epoch 169/200\n",
            "34/34 [==============================] - 2s 59ms/step - loss: 38.1688 - val_loss: 61.8849\n",
            "Epoch 170/200\n",
            "34/34 [==============================] - 2s 59ms/step - loss: 35.3515 - val_loss: 61.5822\n",
            "Epoch 171/200\n",
            "34/34 [==============================] - 2s 60ms/step - loss: 40.0565 - val_loss: 60.5180\n",
            "Epoch 172/200\n",
            "34/34 [==============================] - 2s 59ms/step - loss: 37.0204 - val_loss: 58.0578\n",
            "Epoch 173/200\n",
            "34/34 [==============================] - 2s 59ms/step - loss: 36.8005 - val_loss: 85.1070\n",
            "Epoch 174/200\n",
            "34/34 [==============================] - 2s 59ms/step - loss: 39.4335 - val_loss: 87.4326\n",
            "Epoch 175/200\n",
            "34/34 [==============================] - 2s 59ms/step - loss: 40.3854 - val_loss: 68.6580\n",
            "Epoch 176/200\n",
            "34/34 [==============================] - 2s 60ms/step - loss: 42.2153 - val_loss: 81.3107\n",
            "Epoch 177/200\n",
            "34/34 [==============================] - 2s 58ms/step - loss: 45.1839 - val_loss: 62.9923\n",
            "Epoch 178/200\n",
            "34/34 [==============================] - 2s 60ms/step - loss: 41.4439 - val_loss: 68.0947\n",
            "Epoch 179/200\n",
            "34/34 [==============================] - 2s 60ms/step - loss: 43.9202 - val_loss: 64.1935\n",
            "Epoch 180/200\n",
            "34/34 [==============================] - 2s 63ms/step - loss: 45.1133 - val_loss: 68.4933\n",
            "Epoch 181/200\n",
            "34/34 [==============================] - 2s 66ms/step - loss: 43.1189 - val_loss: 66.3852\n",
            "Epoch 182/200\n",
            "34/34 [==============================] - 2s 65ms/step - loss: 43.4249 - val_loss: 58.8948\n",
            "Epoch 183/200\n",
            "34/34 [==============================] - 2s 60ms/step - loss: 43.2216 - val_loss: 59.0144\n",
            "Epoch 184/200\n",
            "34/34 [==============================] - 2s 59ms/step - loss: 39.3839 - val_loss: 52.6715\n",
            "Epoch 185/200\n",
            "34/34 [==============================] - 2s 60ms/step - loss: 41.7203 - val_loss: 61.3006\n",
            "Epoch 186/200\n",
            "34/34 [==============================] - 2s 60ms/step - loss: 45.5167 - val_loss: 61.8069\n",
            "Epoch 187/200\n",
            "34/34 [==============================] - 2s 60ms/step - loss: 41.3494 - val_loss: 65.6245\n",
            "Epoch 188/200\n",
            "34/34 [==============================] - 2s 60ms/step - loss: 42.4860 - val_loss: 69.7402\n",
            "Epoch 189/200\n",
            "34/34 [==============================] - 2s 58ms/step - loss: 38.6604 - val_loss: 64.7173\n",
            "Epoch 190/200\n",
            "34/34 [==============================] - 2s 59ms/step - loss: 40.2553 - val_loss: 72.6410\n",
            "Epoch 191/200\n",
            "34/34 [==============================] - 2s 60ms/step - loss: 40.9939 - val_loss: 54.1507\n",
            "Epoch 192/200\n",
            "34/34 [==============================] - 2s 60ms/step - loss: 37.6237 - val_loss: 59.2322\n",
            "Epoch 193/200\n",
            "34/34 [==============================] - 2s 59ms/step - loss: 37.7379 - val_loss: 53.9752\n",
            "Epoch 194/200\n",
            "34/34 [==============================] - 2s 59ms/step - loss: 36.9518 - val_loss: 54.3910\n",
            "Epoch 195/200\n",
            "34/34 [==============================] - 2s 59ms/step - loss: 39.6934 - val_loss: 55.4216\n",
            "Epoch 196/200\n",
            "34/34 [==============================] - 2s 60ms/step - loss: 38.9371 - val_loss: 63.7203\n",
            "Epoch 197/200\n",
            "34/34 [==============================] - 2s 59ms/step - loss: 40.0768 - val_loss: 72.7296\n",
            "Epoch 198/200\n",
            "34/34 [==============================] - 2s 59ms/step - loss: 35.9761 - val_loss: 79.9916\n",
            "Epoch 199/200\n",
            "34/34 [==============================] - 2s 58ms/step - loss: 41.4219 - val_loss: 60.9443\n",
            "Epoch 200/200\n",
            "34/34 [==============================] - 2s 60ms/step - loss: 43.3995 - val_loss: 60.4690\n"
          ]
        },
        {
          "output_type": "execute_result",
          "data": {
            "text/plain": [
              "<keras.callbacks.History at 0x7fca0711fa50>"
            ]
          },
          "metadata": {},
          "execution_count": 8
        }
      ]
    },
    {
      "cell_type": "code",
      "metadata": {
        "id": "_c1Q35p0_vws"
      },
      "source": [
        "import matplotlib.pyplot as plt\n",
        "plt.figure(figsize=(16,10)) \n",
        "epochs = range(1, len(regression_hist.history['accuracy']) + 1)\n",
        "plt.plot(epochs, regression_hist.history['loss'], label='Training Loss') \n",
        "plt.plot(epochs, regression_hist.history['val_loss'], label='Validation Loss') \n",
        "\n",
        "plt.title('Loss of Regression model')\n",
        "plt.xlabel('Epochs')\n",
        "plt.ylabel('Loss')\n",
        "plt.legend()\n",
        "plt.show()"
      ],
      "execution_count": null,
      "outputs": []
    },
    {
      "cell_type": "code",
      "metadata": {
        "id": "CZGoNXpcxJGN",
        "colab": {
          "base_uri": "https://localhost:8080/"
        },
        "outputId": "655fa809-eadf-49d7-c1e2-72b0ad0acb0c"
      },
      "source": [
        "# make predictions on the testing data\n",
        "print(\"[INFO] predicting house prices...\")\n",
        "preds = model.predict(testImagesX)\n",
        "# compute the difference between the *predicted* house prices and the\n",
        "# *actual* house prices, then compute the percentage difference and\n",
        "# the absolute percentage difference\n",
        "diff = preds.flatten() - testY\n",
        "percentDiff = (diff / testY) * 100\n",
        "absPercentDiff = np.abs(percentDiff)\n",
        "# compute the mean and standard deviation of the absolute percentage\n",
        "# difference\n",
        "mean = np.mean(absPercentDiff)\n",
        "std = np.std(absPercentDiff)\n",
        "# finally, show some statistics on our model\n",
        "locale.setlocale(locale.LC_ALL, \"en_US.UTF-8\")\n",
        "print(\"[INFO] avg. house price: {}, std house price: {}\".format(\n",
        "\tlocale.currency(df[\"price\"].mean(), grouping=True),\n",
        "\tlocale.currency(df[\"price\"].std(), grouping=True)))\n",
        "print(\"[INFO] mean: {:.2f}%, std: {:.2f}%\".format(mean, std))"
      ],
      "execution_count": null,
      "outputs": [
        {
          "output_type": "stream",
          "name": "stdout",
          "text": [
            "[INFO] predicting house prices...\n",
            "[INFO] avg. house price: $533,388.27, std house price: $493,403.08\n",
            "[INFO] mean: 60.47%, std: 28.68%\n"
          ]
        }
      ]
    },
    {
      "cell_type": "code",
      "metadata": {
        "id": "TmNl5HdwxJDf"
      },
      "source": [
        ""
      ],
      "execution_count": null,
      "outputs": []
    },
    {
      "cell_type": "code",
      "metadata": {
        "id": "66k6uPeFxJAi"
      },
      "source": [
        ""
      ],
      "execution_count": null,
      "outputs": []
    },
    {
      "cell_type": "code",
      "metadata": {
        "id": "eD9r6A8gxI9g"
      },
      "source": [
        ""
      ],
      "execution_count": null,
      "outputs": []
    },
    {
      "cell_type": "code",
      "metadata": {
        "id": "obPOMM4NxI6k"
      },
      "source": [
        ""
      ],
      "execution_count": null,
      "outputs": []
    }
  ]
}